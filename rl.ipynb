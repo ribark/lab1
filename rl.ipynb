{
  "cells": [
    {
      "cell_type": "markdown",
      "metadata": {
        "id": "m2s4kN_QPQVe"
      },
      "source": [
        "# Введение в обучение с подкреплением  (Reinforcement Learning)\n",
        "\n",
        "\n",
        "<center>\n",
        "<img src=\"https://raw.githubusercontent.com/jcformanek/jcformanek.github.io/master/docs/assets/images/rl_in_space.png\" width=\"100%\" />\n",
        "</center>\n",
        "\n",
        "\n",
        "\n",
        "**Введение**\n",
        "\n",
        "На этом семинаре мы изучим обучение с подкреплением - тип машинного обучения без учителя, где агент учится выбирать действия, которые приводят к максимальному вознаграждению в долгосрочной перспективе. Обучение с подкреплением используется в широком спектре сложных задач, в том числе - в видеоиграх, например, [Atari](https://www.deepmind.com/blog/agent57-outperforming-the-human-atari-benchmark), [StarCraft II](https://www.deepmind.com/blog/alphastar-mastering-the-real-time-strategy-game-starcraft-ii) и [Dota II](https://openai.com/five/).\n",
        "\n",
        "На семинаре изучим классическую среду - [CartPole](https://www.gymlibrary.ml/environments/classic_control/cart_pole/), где агент должен научиться балансировать шестом на тележке (см лекцию), используя несколько различных подходов RL. По пути вы познакомитесь с некоторыми из самых важных концепций и терминологии в RL.\n",
        "\n",
        "**Темы:**\n",
        "* Reinforcement Learning (RL, Обучение с подкреплением)\n",
        "* Random Policy Search (Случайный поиск политики)\n",
        "* Policy Gradient (Градиент политики)\n",
        "* Q-Learning\n",
        "\n",
        "\n",
        "**Что надо сделать для лучшего понимания:**\n",
        "\n",
        "* почитать про библиотеку [JAX](https://github.com/google/jax).\n",
        "* вспомнить нейроки.\n",
        "\n"
      ]
    },
    {
      "cell_type": "markdown",
      "metadata": {
        "id": "6EqhIg1odqg0"
      },
      "source": [
        "### Настраиваем среду"
      ]
    },
    {
      "cell_type": "code",
      "execution_count": 1,
      "metadata": {
        "id": "4boGA9rYdt9l"
      },
      "outputs": [],
      "source": [
        "# @title Установка необходимых пакетов (надо просто запустить!) { display-mode: \"form\" }\n",
        "# @markdown Может занять несколько минут\n",
        "%%capture\n",
        "!pip install jaxlib\n",
        "!pip install jax\n",
        "!pip install git+https://github.com/deepmind/dm-haiku\n",
        "!pip install gym==0.25\n",
        "!pip install gym[box2d]\n",
        "!pip install optax\n",
        "!pip install matplotlib\n",
        "!pip install chex\n",
        "!pip install gym[classic_control]"
      ]
    },
    {
      "cell_type": "code",
      "execution_count": 2,
      "metadata": {
        "id": "gwbqggmcRjMy"
      },
      "outputs": [],
      "source": [
        "# @title Импорт необходимых пакетов (просто запустите ячейку) { display-mode: \"form\" }\n",
        "%%capture\n",
        "import copy\n",
        "from shutil import rmtree # deleting directories\n",
        "import random\n",
        "import collections # useful data structures\n",
        "import numpy as np\n",
        "import gym # reinforcement learning environments\n",
        "from gym.wrappers import RecordVideo\n",
        "import jax\n",
        "import jax.numpy as jnp # jax numpy\n",
        "import haiku as hk # jax neural network library\n",
        "import optax # jax optimizer library\n",
        "import matplotlib.pyplot as plt # graph plotting library\n",
        "from IPython.display import HTML\n",
        "from base64 import b64encode\n",
        "import chex\n",
        "\n",
        "# Hide warnings\n",
        "import warnings\n",
        "warnings.filterwarnings('ignore')"
      ]
    },
    {
      "cell_type": "markdown",
      "metadata": {
        "id": "-ZUp8i37dFbU"
      },
      "source": [
        "## 1. Ключевые концепции обучения с подкреплением\n",
        "\n",
        "Обучение с подкреплением (RL) является подразделом машинного обучения (ML). В отличие от таких областей, как контролируемое обучение, где мы даем примеры ожидаемого поведения нашим моделям, RL фокусируется на *целеориентированном* обучении из взаимодействий методом проб и ошибок. Алгоритмы RL изучают, что делать (т. е. какие оптимальные действия предпринять) в среде, чтобы максимизировать некий сигнал вознаграждения. В таких условиях, как видеоигра, сигналом вознаграждения может быть счет игры, т. е. алгоритмы RL будут пытаться максимизировать счет в игре, выбирая лучшие действия.\n",
        "\n",
        "<center>\n",
        "<img src=\"https://pettingzoo.farama.org/_images/environments-demo.gif\" width=\"40%\" />\n",
        "</center>\n",
        "\n",
        "[*Image Source*](https://pettingzoo.farama.org/)\n",
        "\n",
        "Другими словами, в RL у нас есть **агент**, который воспринимает **наблюдение** $o_t$ текущего состояния $s_t$ **окружающей среды** и должен выбрать **действие** $a_t$ для выполнения.\n",
        "\n",
        "Затем окружающая среда переходит в новое состояние $s_{t+1}$ в ответ на действие агента, а также дает агенту скалярное вознаграждение $r_t$, чтобы указать, насколько хорошим или плохим было выбранное действие, учитывая состояние окружающей среды.\n",
        "\n",
        "Целью в RL является максимизация агентом суммы вознаграждения, которое он получает от окружающей среды с течением времени. Нижний индекс $t$ используется для указания номера временного шага, т. е. $s_0$ - это состояние окружающей среды на начальном временном шаге, а $a_{99}$ - это действие агента на $99-м$ временном шаге."
      ]
    },
    {
      "cell_type": "markdown",
      "metadata": {
        "id": "Ghgy69hFRjMz"
      },
      "source": [
        "### Среда - OpenAI Gym\n",
        "Как упоминалось выше, среда получает от агента действие $a_t$ и возвращает вознаграждение $r_t$ и наблюдение $o_t$.\n",
        "\n",
        "OpenAI разработал пакет для Python под названием **Gym**, который включает реализации популярных сред и простой интерфейс для взаимодействия агента RL. Чтобы использовать поддерживаемую [среду gym](https://www.gymlibrary.ml/), все, что вам нужно сделать, это передать имя среды в функцию  `gym.make(<environment_name>)`.\n",
        "\n",
        "В этом уроке мы будем использовать простую среду под названием **CartPole**. В CartPole задача агента — научиться балансировать на шесте как можно дольше, перемещая тележку *влево* или *вправо*.\n",
        "\n",
        "<img src=\"https://user-images.githubusercontent.com/10854026/32486103-f15f19de-c3a5-11e7-81de-0605df939497.gif\" width=\"50%\" />"
      ]
    },
    {
      "cell_type": "code",
      "execution_count": 3,
      "metadata": {
        "id": "WfxzajMYRjMz"
      },
      "outputs": [],
      "source": [
        "# Create the environment\n",
        "env_name = \"CartPole-v0\"\n",
        "env = gym.make(env_name)"
      ]
    },
    {
      "cell_type": "markdown",
      "metadata": {
        "id": "y_BbftaJj3zu"
      },
      "source": [
        "### Состояние (States) и Наблюдение (Observations) - $s_t$ and $o_t$\n",
        "\n",
        "В RL агент воспринимает наблюдение за состоянием среды. В некоторых настройках наблюдение может включать всю информацию, лежащую в основе состояния среды. Такая среда называется **полностью наблюдаемой**. В других настройках агент может получать только частичную информацию о состоянии среды в своем наблюдении. Такая среда называется **частично наблюдаемой**.\n",
        "\n",
        "В оставшейся части этого руководства мы будем предполагать, что среда полностью наблюдаема, и поэтому будем использовать состояние $s_t$ и наблюдение $o_t$ взаимозаменяемо. В Gym мы получаем начальное наблюдение из среды, вызывая функцию `env.reset()`."
      ]
    },
    {
      "cell_type": "code",
      "execution_count": 4,
      "metadata": {
        "id": "HdS8nqOgRjM0",
        "colab": {
          "base_uri": "https://localhost:8080/"
        },
        "outputId": "842fc520-37ec-41b6-9542-68deebc19c38"
      },
      "outputs": [
        {
          "output_type": "stream",
          "name": "stdout",
          "text": [
            "Initial State:: [-0.03272225  0.00614376 -0.04530692 -0.02451119]\n",
            "Environment Obs Space Shape: (4,)\n"
          ]
        }
      ],
      "source": [
        "# Reset the environment\n",
        "s_0 = env.reset()\n",
        "print(\"Initial State::\", s_0)\n",
        "\n",
        "# Get environment obs space\n",
        "obs_shape = env.observation_space.shape\n",
        "print(\"Environment Obs Space Shape:\", obs_shape)"
      ]
    },
    {
      "cell_type": "markdown",
      "metadata": {
        "id": "pUNX6mbotABo"
      },
      "source": [
        "В CartPole состояние окружающей среды представлено четырьмя числами: *угловое положение полюса, угловая скорость полюса, положение тележки, скорость тележки*."
      ]
    },
    {
      "cell_type": "markdown",
      "metadata": {
        "id": "hL1Nkgy7nUfn"
      },
      "source": [
        "### Действия (Actions) - $a_t$\n",
        "\n",
        "В RL действия обычно либо **дискретные**, либо **непрерывные**. Непрерывные действия задаются вектором действительных чисел. Дискретные действия задаются целочисленным значением. В средах, где мы можем подсчитать конечный набор действий, мы обычно используем дискретные действия.\n",
        "\n",
        "В CartPole есть только два действия: *влево* и *вправо*. Таким образом, действия могут быть представлены целыми числами $0$ и $1$. В gym мы можем легко получить список возможных действий следующим образом:"
      ]
    },
    {
      "cell_type": "code",
      "execution_count": 5,
      "metadata": {
        "id": "uOLZqU_LpIXh",
        "colab": {
          "base_uri": "https://localhost:8080/"
        },
        "outputId": "9637ecfe-c391-47c6-d529-335072319b24"
      },
      "outputs": [
        {
          "output_type": "stream",
          "name": "stdout",
          "text": [
            "Environment action space: Discrete(2)\n",
            "Number of actions: 2\n"
          ]
        }
      ],
      "source": [
        "# Get action space - e.g. discrete or continuous\n",
        "print(f\"Environment action space: {env.action_space}\")\n",
        "\n",
        "# Get num actions\n",
        "num_actions = env.action_space.n\n",
        "print(f\"Number of actions: {num_actions}\")"
      ]
    },
    {
      "cell_type": "markdown",
      "metadata": {
        "id": "tRsflxbDpoPm"
      },
      "source": [
        "### Политика агента (The Agent's Policy) - $\\pi$\n",
        "\n",
        "В RL агент выбирает действия на основе полученных наблюдений. Мы можем представить процесс выбора действия агента как функцию, которая принимает наблюдение в качестве входных данных и возвращает действие в качестве выходных данных. В RL мы обычно называем эту функцию **политикой** агента и обозначаем ее $\\pi(s_t)=a_t$. В RL мы обычно параметризуем нашу политику каким-либо образом, а затем пытаемся узнать оптимальные параметры. Параметризованная политика обычно обозначается $\\pi_\\theta$, где $\\theta$ — это набор параметров.\n",
        "\n",
        "**Упражнение 1:** В качестве упражнения давайте реализуем простую политику, которая принимает набор параметров и наблюдение в качестве входных данных и возвращает действие. Предположим, что наблюдение — это вектор из четырех чисел, как наблюдение CartPole, и что действие должно быть либо $0$, либо $1$. Предположим также, что параметры — это вектор из четырех действительных чисел. Тогда действие должно быть вычислено следующим образом.\n",
        "\n",
        "\n",
        "1. Вычислите [скалярное произведение векторов](https://www.mathsisfun.com/algebra/vectors-dot-product.html) между наблюдением и параметрами.\n",
        "2. Если результат больше нуля, верните действие $1$.\n",
        "3. В противном случае верните действие $0$.\n",
        "\n",
        "В этом упражнении мы постараемся использовать JAX как можно чаще. Поэтому постарайтесь использовать методы JAX для этой задачи. Ниже приведены некоторые полезные методы, которые вы можете использовать. Вам нужно будет завершить код в блоке ниже, заменив `...` правильным кодом.\n",
        "\n",
        "\n",
        "**Полезные методы:**\n",
        "* Вычислите скалярное произведение векторов с помощью `jax.numpy.dot` ([docs](https://jax.readthedocs.io/en/latest/_autosummary/jax.numpy.dot.html)).\n",
        "\n",
        "* Когда вы пытаетесь условно присвоить значение $0$ или $1$ действию на основе результата скалярного произведения, вам следует использовать `jax.lax.select` ([docs](https://jax.readthedocs.io/en/latest/_autosummary/jax.lax.select.html#jax.lax.select)).\n",
        "\n",
        "Метод `jax.lax.select` принимает три аргумента в качестве входных данных. Первый аргумент — это оператор, который будет оцениваться как `True` или `False`.\n",
        "\n",
        "Если оператор равен `True`, то `jax.lax.select` вернет свой второй аргумент.\n",
        "\n",
        "Если оператор имеет значение `False`, `jax.lax.select` вернет свой третий аргумент.\n",
        "\n"
      ]
    },
    {
      "cell_type": "code",
      "execution_count": 6,
      "metadata": {
        "id": "KSGCd7XB1z8k"
      },
      "outputs": [],
      "source": [
        "def linear_policy(params, obs):\n",
        "  \"\"\"A simple linear policy\n",
        "\n",
        "  Args:\n",
        "    params: a vector of four real-numbers that give the parameters of the policy\n",
        "    obs: a vector of four real-numbers that give the agent's observation\n",
        "\n",
        "  Returns:\n",
        "    a discrete action given by a 0 or 1\n",
        "  \"\"\"\n",
        "  # YOUR CODE\n",
        "  dot_product_result = jnp.dot(params, obs)\n",
        "\n",
        "  action = jax.lax.select(\n",
        "      dot_product_result > 0, # boolean statement goes here\n",
        "      1, # result when the statement is True goes here\n",
        "      0, # result when the statement is False goes here\n",
        "  )\n",
        "  # END YOUR CODE\n",
        "  return action"
      ]
    },
    {
      "cell_type": "code",
      "execution_count": 7,
      "metadata": {
        "id": "9EnnBvceb1f3",
        "colab": {
          "base_uri": "https://localhost:8080/"
        },
        "outputId": "b4f4403b-3c72-48dd-fff6-f24e9fa17990"
      },
      "outputs": [
        {
          "output_type": "stream",
          "name": "stdout",
          "text": [
            "Your function is correct!\n"
          ]
        }
      ],
      "source": [
        "# @title Проверка упр 1  { display-mode: \"form\" }\n",
        "\n",
        "def check_linear_policy(linear_policy):\n",
        "  fixed_obs = jnp.array([1,1,2,4])\n",
        "\n",
        "  # check case1 - negative dot product.\n",
        "  # weights\n",
        "  params1 = jnp.array([1,1,1,1])\n",
        "  params2 = jnp.array([-1,-1,-1,-1])\n",
        "\n",
        "  hint1 = f\"Неправильный ответ, ваша линейная политика неверна. Действие при \\\n",
        "obs={fixed_obs} и params={params1} должно быть 1\"\n",
        "\n",
        "  hint2 = f\"Неправильный ответ, ваша линейная политика неверна. Действие при \\\n",
        "obs={fixed_obs} и params={params2} должно быть 0\"\n",
        "\n",
        "  hint = None\n",
        "  if linear_policy(params1, fixed_obs) != 1:\n",
        "    hint = hint1\n",
        "  elif linear_policy(params2, fixed_obs) != 0:\n",
        "    hint = hint2\n",
        "\n",
        "  if hint is not None:\n",
        "    print(hint)\n",
        "  else:\n",
        "    print(\"Your function is correct!\")\n",
        "\n",
        "try:\n",
        "  check_linear_policy(linear_policy)\n",
        "except Exception as e:\n",
        "    print(\"An Error Occured: {}\".format(e))"
      ]
    },
    {
      "cell_type": "markdown",
      "metadata": {
        "id": "PkuvT-jf6Ieh"
      },
      "source": [
        "### Функция перехода среды - $P$\n",
        "\n",
        "Теперь, когда у нас есть политика, мы можем передавать действия от агента среде. Затем среда перейдет в новое состояние в ответ на действие агента.\n",
        "\n",
        "В RL мы моделируем этот процесс с помощью **функции перехода состояния** $P$, которая принимает текущее состояние $s_t$ и действие $a_t$ в качестве входных данных и возвращает следующее состояние $s_{t+1}$ в качестве выходных данных:\n",
        "\n",
        "<center>\n",
        "$s_{t+1}=P(s_t, a_t)$\n",
        "</center>\n",
        "\n",
        "В gym мы можем передавать действия среде, вызывая функцию `env.step(<action>)`. Затем функция вернет четыре значения:\n",
        "- **следующее наблюдение**\n",
        "- **награду** за выполненное действие\n",
        "- логический флаг, указывающий, **завершена** игра\n",
        "- некоторую **дополнительную** информацию."
      ]
    },
    {
      "cell_type": "code",
      "execution_count": 8,
      "metadata": {
        "id": "hh0j9-Tk7olb",
        "colab": {
          "base_uri": "https://localhost:8080/"
        },
        "outputId": "becde370-a750-4296-e18a-ab4fddffac01"
      },
      "outputs": [
        {
          "output_type": "stream",
          "name": "stdout",
          "text": [
            "Observation: [-0.01472249  0.02617222 -0.02933378 -0.03481673]\n",
            "Action: 1\n",
            "Next observation: [-0.01419904  0.22170228 -0.03003011 -0.33660853]\n",
            "Reward: 1.0\n",
            "Game is done: False\n"
          ]
        }
      ],
      "source": [
        "# Get the initial obs by resetting the env\n",
        "initial_obs = env.reset()\n",
        "\n",
        "# Randomly sample actions from env\n",
        "action = env.action_space.sample()\n",
        "\n",
        "# Step the environment\n",
        "next_obs, reward, done, info = env.step(action)\n",
        "\n",
        "print(\"Observation:\", initial_obs)\n",
        "print(\"Action:\", action)\n",
        "print(\"Next observation:\", next_obs)\n",
        "print(\"Reward:\", reward)\n",
        "print(\"Game is done:\", done)"
      ]
    },
    {
      "cell_type": "markdown",
      "metadata": {
        "id": "bX9iZtu48UYn"
      },
      "source": [
        "### Возврат эпизода - $R_t$\n",
        "\n",
        "В RL мы обычно разбиваем взаимодействие агента с окружающей средой на **эпизоды**. Сумма всех вознаграждений, собранных во время эпизода, - это то, что мы называем **возвратом** эпизода - $R_t$:\n",
        "\n",
        "<center>\n",
        "$R_t=\\sum_{t=0}^Tr_t$,\n",
        "</center>\n",
        "\n",
        "где $r_t$ - это вознаграждение в момент времени $t$, а $T$ - это последний временной шаг. Цель в RL - выбрать действия, которые максимизируют этот ожидаемый будущий возврат $R_t$."
      ]
    },
    {
      "cell_type": "markdown",
      "metadata": {
        "id": "y6KZA1Nq9p47"
      },
      "source": [
        "### Цикл агент-среда\n",
        "Теперь, когда мы знаем, что такое политика, и знаем, как пошагово проходить среду, давайте закроем цикл агент-среда.\n",
        "\n",
        "**Упражнение 2:** Напишите функцию, которая запускает один эпизод CartPole, последовательно выбирая действия и пошагово проходя среду. Вам следует использовать линейную политику, которую мы определили ранее, для выбора действий. Функция должна отслеживать полученное вознаграждение и выводить возврат в конце эпизода.\n",
        "\n",
        "В CartPole агент получает вознаграждение `1` за каждый временной шаг, когда шест все еще стоит вертикально. Если шест падает, игра заканчивается, и агент больше не получает вознаграждения. Игра также заканчивается после `200` временных шагов, поэтому максимальное вознаграждение, которое может получить агент, составляет `200`."
      ]
    },
    {
      "cell_type": "code",
      "execution_count": 9,
      "metadata": {
        "id": "Buy0X7mi-gHP"
      },
      "outputs": [],
      "source": [
        "def run_episode(env):\n",
        "  episode_return = 0 # counter to keep track of rewards\n",
        "  done = False # initially set to False\n",
        "  params = jnp.array([1,-2,2,-1]) # fixed policy parameters\n",
        "\n",
        "  ## YOUR CODE\n",
        "\n",
        "  obs = env.reset() # TODO: get the initial obs from the env\n",
        "\n",
        "  while not done: # loop until episode is done\n",
        "\n",
        "    action = linear_policy(params, obs) # TODO: compute action using linear policy\n",
        "    action = np.array(action) # We need to the convert the action from the policy to a np.array\n",
        "\n",
        "    obs, reward, done, info = env.step(action) # TODO: step the environment\n",
        "\n",
        "    episode_return += reward # TODO: add reward to episode return\n",
        "\n",
        "  return episode_return"
      ]
    },
    {
      "cell_type": "code",
      "execution_count": 10,
      "metadata": {
        "id": "bA2Orj9PVbKO",
        "colab": {
          "base_uri": "https://localhost:8080/"
        },
        "outputId": "46e4da5e-3668-46b9-e0c9-9d8456e54310"
      },
      "outputs": [
        {
          "output_type": "stream",
          "name": "stdout",
          "text": [
            "Looks correct!\n"
          ]
        }
      ],
      "source": [
        "# @title Проверка упр 2 (run me) { display-mode: \"form\" }\n",
        "\n",
        "try:\n",
        "  env.seed(42)\n",
        "  if run_episode(env) == 31:\n",
        "    print(\"Looks correct!\")\n",
        "  else:\n",
        "    print(\"Looks like your implementation might be wrong.\")\n",
        "except Exception as e:\n",
        "    print(\"An Error Occured: {}\".format(e))"
      ]
    },
    {
      "cell_type": "markdown",
      "metadata": {
        "id": "fUGdzHxJnZGl"
      },
      "source": [
        "В CartPole среда считается решенной, когда агент может надежно достичь возврата эпизода 500. Как вы можете видеть, наша текущая политика далека от оптимальной.\n",
        "\n",
        "Один из способов найти оптимальную политику — это случайным образом пробовать разные политики, пока не найдем оптимальную. Эта стратегия называется случайным поиском политики и может быть на удивление эффективной.\n",
        "\n",
        "Прежде чем мы реализуем случайный поиск политики, давайте быстро рассмотрим общий цикл обучения RL, который мы будем использовать для реализации алгоритмов в оставшейся части этого руководства.\n",
        "\n",
        "### Цикл обучения RL общего назначения\n",
        "Мы реализовали для вас цикл обучения RL общего назначения. Цикл обучения принимает несколько аргументов в качестве входных данных, но три наиболее важных для понимания — это `agent_select_action_func`, `agent_learn_func` и `agent_memory`.\n",
        "\n",
        "* `agent_select_action_func` — это функция, которую мы определяем и можем передать в цикл обучения. Функция принимает наблюдение и набор `agent_params` в качестве входных данных и должна возвращать действие.\n",
        "* `agent_learn_func` — это еще один метод, который мы определяем и передаем в цикл обучения. Он должен принимать параметры агента и некоторые «воспоминания» в качестве входных данных, а затем обновлять и возвращать агентам новые параметры.\n",
        "* `agent_memory` — это модуль общего назначения, который мы определяем, который может хранить некоторую релевантную информацию об опыте агента в среде, которую можно использовать в `agent_learn_func`.\n",
        "\n",
        "Ниже приведена функция цикла обучения, которую мы реализовали для вас. Вы можете просмотреть код и попытаться понять его, но это не обязательно. Таким образом, мы скрыли код по умолчанию, просто убедитесь, что вы запустили ячейку кода, прежде чем двигаться дальше, потому что цикл обучения далее в коде."
      ]
    },
    {
      "cell_type": "code",
      "execution_count": 11,
      "metadata": {
        "id": "ZWBwz3zMRjM0"
      },
      "outputs": [],
      "source": [
        "#@title Training loop (run me) { display-mode: \"form\" }\n",
        "\n",
        "# NamedTuple to store transitions\n",
        "Transition = collections.namedtuple(\"Transition\", [\"obs\", \"action\", \"reward\", \"next_obs\", \"done\"])\n",
        "\n",
        "# Training Loop\n",
        "def run_training_loop(env_name, agent_params, agent_select_action_func,\n",
        "    agent_actor_state=None, agent_learn_func=None, agent_learner_state=None,\n",
        "    agent_memory=None, num_episodes=1000, evaluator_period=100,\n",
        "    evaluation_episodes=8, learn_steps_per_episode=1,\n",
        "    train_every_timestep=False, video_subdir=\"\",):\n",
        "    \"\"\"\n",
        "    This function runs several episodes in an environment and periodically does\n",
        "    some agent learning and evaluation.\n",
        "\n",
        "    Args:\n",
        "        env: a gym environment.\n",
        "        agent_params: an object to store parameters that the agent uses.\n",
        "        agent_select_func: a function that does action selection for the agent.\n",
        "        agent_actor_state (optional): an object that stores the internal state\n",
        "            of the agents action selection function.\n",
        "        agent_learn_func (optional): a function that does some learning for the\n",
        "            agent by updating the agent parameters.\n",
        "        agent_learn_state (optional): an object that stores the internal state\n",
        "            of the agent learn function.\n",
        "        agent_memory (optional): an object for storing an retrieving historical\n",
        "            experience.\n",
        "        num_episodes: how many episodes to run.\n",
        "        evaluator_period: how often to run evaluation.\n",
        "        evaluation_episodes: how many evaluation episodes to run.\n",
        "        train_every_timestep: whether to train every timestep rather than at the end\n",
        "            of the episode.\n",
        "        video_subdir: subdirectory to store epsiode recordings.\n",
        "\n",
        "    Returns:\n",
        "        episode_returns: list of all the episode returns.\n",
        "        evaluator_episode_returns: list of all the evaluator episode returns.\n",
        "    \"\"\"\n",
        "\n",
        "    # Setup Cartpole environment and recorder\n",
        "    env = gym.make(env_name, render_mode=\"rgb_array\") # training environment\n",
        "    eval_env = gym.make(env_name, render_mode=\"rgb_array\") # evaluation environment\n",
        "\n",
        "    # Video dir\n",
        "    video_dir = \"./video\"+\"/\"+video_subdir\n",
        "\n",
        "    # Clear video dir\n",
        "    try:\n",
        "      rmtree(video_dir)\n",
        "    except:\n",
        "      pass\n",
        "\n",
        "    # Wrap in recorder\n",
        "    env = RecordVideo(env, video_dir+\"/train\", episode_trigger=lambda x: (x % evaluator_period) == 0)\n",
        "    eval_env = RecordVideo(eval_env, video_dir+\"/eval\", episode_trigger=lambda x: (x % evaluation_episodes) == 0)\n",
        "\n",
        "    # JAX random number generator\n",
        "    rng = hk.PRNGSequence(jax.random.PRNGKey(0))\n",
        "    env.seed(0) # seed environment for reproducability\n",
        "    random.seed(0)\n",
        "\n",
        "    episode_returns = [] # List to store history of episode returns.\n",
        "    evaluator_episode_returns = [] # List to store history of evaluator returns.\n",
        "    timesteps = 0\n",
        "    for episode in range(num_episodes):\n",
        "\n",
        "        # Reset environment.\n",
        "        obs = env.reset()\n",
        "        episode_return = 0\n",
        "        done = False\n",
        "\n",
        "        while not done:\n",
        "\n",
        "            # Agent select action.\n",
        "            action, agent_actor_state = agent_select_action_func(\n",
        "                                            next(rng),\n",
        "                                            agent_params,\n",
        "                                            agent_actor_state,\n",
        "                                            np.array(obs)\n",
        "                                        )\n",
        "\n",
        "            # Step environment.\n",
        "            next_obs, reward, done, _ = env.step(int(action))\n",
        "\n",
        "            # Pack into transition.\n",
        "            transition = Transition(obs, action, reward, next_obs, done)\n",
        "\n",
        "            # Add transition to memory.\n",
        "            if agent_memory: # check if agent has memory\n",
        "              agent_memory.push(transition)\n",
        "\n",
        "            # Add reward to episode return.\n",
        "            episode_return += reward\n",
        "\n",
        "            # Set obs to next obs before next environment step. CRITICAL!!!\n",
        "            obs = next_obs\n",
        "\n",
        "            # Increment timestep counter\n",
        "            timesteps += 1\n",
        "\n",
        "            # Maybe learn every timestep\n",
        "            if train_every_timestep and (timesteps % 4 == 0) and agent_memory and agent_memory.is_ready(): # Make sure memory is ready\n",
        "                # First sample memory and then pass the result to the learn function\n",
        "                memory = agent_memory.sample()\n",
        "                agent_params, agent_learner_state = agent_learn_func(\n",
        "                                                        next(rng),\n",
        "                                                        agent_params,\n",
        "                                                        agent_learner_state,\n",
        "                                                        memory\n",
        "                                                    )\n",
        "\n",
        "        episode_returns.append(episode_return)\n",
        "\n",
        "        # At the end of every episode we do a learn step.\n",
        "        if agent_memory and agent_memory.is_ready(): # Make sure memory is ready\n",
        "\n",
        "            for _ in range(learn_steps_per_episode):\n",
        "                # First sample memory and then pass the result to the learn function\n",
        "                memory = agent_memory.sample()\n",
        "                agent_params, agent_learner_state = agent_learn_func(\n",
        "                                                        next(rng),\n",
        "                                                        agent_params,\n",
        "                                                        agent_learner_state,\n",
        "                                                        memory\n",
        "                                                    )\n",
        "\n",
        "        if (episode % evaluator_period) == 0: # Do evaluation\n",
        "\n",
        "            evaluator_episode_return = 0\n",
        "            for eval_episode in range(evaluation_episodes):\n",
        "                obs = eval_env.reset()\n",
        "                done = False\n",
        "                while not done:\n",
        "                    action, _ = agent_select_action_func(\n",
        "                                    next(rng),\n",
        "                                    agent_params,\n",
        "                                    agent_actor_state,\n",
        "                                    np.array(obs),\n",
        "                                    evaluation=True\n",
        "                                )\n",
        "\n",
        "                    obs, reward, done, _ = eval_env.step(int(action))\n",
        "\n",
        "                    evaluator_episode_return += reward\n",
        "\n",
        "            evaluator_episode_return /= evaluation_episodes\n",
        "\n",
        "            evaluator_episode_returns.append(evaluator_episode_return)\n",
        "\n",
        "            logs = [\n",
        "                    f\"Episode: {episode}\",\n",
        "                    f\"Episode Return: {episode_return}\",\n",
        "                    f\"Average Episode Return: {np.mean(episode_returns[-20:])}\",\n",
        "                    f\"Evaluator Episode Return: {evaluator_episode_return}\"\n",
        "            ]\n",
        "\n",
        "            print(*logs, sep=\"\\t\") # Print the logs\n",
        "\n",
        "    env.close()\n",
        "    eval_env.close()\n",
        "\n",
        "    return episode_returns, evaluator_episode_returns"
      ]
    },
    {
      "cell_type": "markdown",
      "metadata": {
        "id": "CTPlIq4oDBPY"
      },
      "source": [
        "##2. Случайный поиск политики (RPS)\n",
        "В разделе 1 мы использовали фиксированный набор параметров для нашей политики. То есть мы не изучали параметры $\\pi$ $\\theta$, мы просто сохранили их фиксированными ( `params = [1,-2,2,-1]`).\n",
        "\n",
        "Теперь мы реализуем случайный поиск политики (RPS), который представляет собой алгоритм, который случайным образом пробует различные параметры политики и отслеживает лучшие параметры, найденные на данный момент. Мы скажем, что параметры политики $\\theta_A$ лучше параметров $\\theta_B$, если средний возврат эпизода, достигнутый за последние 20 эпизодов политикой с параметрами $\\theta_A$, больше, чем у политики с параметрами $\\theta_B$.\n",
        "\n",
        "Чтобы отслеживать «текущие» параметры, а также «лучшие» параметры, мы будем использовать [NamedTuple](https://www.geeksforgeeks.org/namedtuple-in-python/)."
      ]
    },
    {
      "cell_type": "code",
      "execution_count": 12,
      "metadata": {
        "id": "1DcaC-PQRjM1",
        "colab": {
          "base_uri": "https://localhost:8080/"
        },
        "outputId": "511ddfef-ce7d-4f95-8e2b-fb7f0fedaf0d"
      },
      "outputs": [
        {
          "output_type": "stream",
          "name": "stdout",
          "text": [
            "Best params: [0. 0. 0. 0.]\n",
            "Current params: [-1. -1. -1. -1.]\n"
          ]
        }
      ],
      "source": [
        "# Parameter container for Random Policy Search\n",
        "RandomPolicySearchParams = collections.namedtuple(\"RandomPolicySearchParams\", [\"current\", \"best\"])\n",
        "\n",
        "# TEST: store two different sets of parameters\n",
        "current_params = np.ones(obs_shape) * -1\n",
        "best_params = np.zeros(obs_shape)\n",
        "rps_params = RandomPolicySearchParams(current_params, best_params)\n",
        "\n",
        "# How to access the best or current params.\n",
        "print(f\"Best params: {rps_params.best}\")\n",
        "print(f\"Current params: {rps_params.current}\")"
      ]
    },
    {
      "cell_type": "markdown",
      "metadata": {
        "id": "v91pDDzGex9a"
      },
      "source": [
        "Далее мы реализуем следующее:\n",
        "- **Функция выбора действия RPS** - определяет, как мы выбираем действия с учетом набора параметров.\n",
        "- **Модуль памяти RPS** - определяет, какой опыт хранить из взаимодействий со средой.\n",
        "- **Функция обучения RPS** - определяет, как мы обновляем и улучшаем параметры нашей политики."
      ]
    },
    {
      "cell_type": "markdown",
      "metadata": {
        "id": "0tExceGeGNYH"
      },
      "source": [
        "### Функция выбора действия RPS\n",
        "Давайте реализуем функцию с именем `random_policy_search_choose_action`, которую мы можем передать в цикл обучения. Функция должна принимать несколько аргументов, чтобы она могла хорошо взаимодействовать с нашим обобщенным циклом обучения, но вам нужно будет использовать только три из них - `params`, `obs` и `evaluation`.\n",
        "\n",
        "- `params` - это экземпляр `RandomPolicySearchParams` с \"current\" и \"best\".\n",
        "- `obs` - это последнее наблюдение из среды.\n",
        "- `evaluation` - это логическое значение, которое указывает, следует ли нам использовать параметры \"current\" или \"best\". Когда `evaluation==True`, мы должны использовать параметры \"best\", в противном случае мы должны использовать параметры \"current\".\n",
        "\n",
        "**Упражнение 3:** Реализуйте функцию `random_policy_search_choose_action`, как описано выше. Вам следует использовать метод `linear_policy`, который мы определили ранее. Вам также понадобится `jax.lax.select()` для условного возврата \"лучшего\" действия или \"текущего\" действия."
      ]
    },
    {
      "cell_type": "code",
      "execution_count": 13,
      "metadata": {
        "id": "1kmwT35JRjM1"
      },
      "outputs": [],
      "source": [
        "def random_policy_search_choose_action(\n",
        "    key,\n",
        "    params,\n",
        "    actor_state,\n",
        "    obs,\n",
        "    evaluation=False\n",
        "):\n",
        "  \"\"\"Random policy search select action method.\n",
        "\n",
        "  Args:\n",
        "    key: a random number (seed). Not used in this function.\n",
        "    params: the agent's parameters. In this case an instance of `RandomPolicySearchParams`\n",
        "    actor_state: some extra information about the actor. Not used in this function.\n",
        "    obs: the latest observation.\n",
        "    evaluation: a boolean indicating whether to use the best \"parameters\" or the \"current\" ones.\n",
        "\n",
        "  Returns:\n",
        "    The chosen action and the updated actor_state. In this function the actor_state is not updated.\n",
        "  \"\"\"\n",
        "\n",
        "  # YOUR CODE\n",
        "\n",
        "  best_action = linear_policy(params.best, obs)\n",
        "\n",
        "  current_action = linear_policy(params.current, obs)\n",
        "\n",
        "  action = jax.lax.select(\n",
        "      evaluation,\n",
        "      best_action,\n",
        "      current_action\n",
        "  )\n",
        "\n",
        "  # END YOUR CODE\n",
        "\n",
        "  return action, actor_state"
      ]
    },
    {
      "cell_type": "code",
      "execution_count": 14,
      "metadata": {
        "id": "YE4xoAgyI3kG",
        "colab": {
          "base_uri": "https://localhost:8080/"
        },
        "outputId": "fc787e67-58e6-428a-acd0-110d2d413400"
      },
      "outputs": [
        {
          "output_type": "stream",
          "name": "stdout",
          "text": [
            "Your function looks correct.\n"
          ]
        }
      ],
      "source": [
        "# @title Проверка упр 3 (run me) {display-mode: \"form\"}\n",
        "\n",
        "def check_random_policy_search_choose_action(choose_action):\n",
        "  key = None # not used\n",
        "  actor_state = None # not used\n",
        "\n",
        "  # obs\n",
        "  obs = np.ones(obs_shape)\n",
        "\n",
        "  evaluation=False\n",
        "  current_params = np.ones(obs_shape) * -1\n",
        "  best_params = np.ones(obs_shape)\n",
        "  rps_params = RandomPolicySearchParams(current_params, best_params)\n",
        "  action, actor_state = choose_action(key,rps_params,actor_state,obs,evaluation)\n",
        "  if action != 0:\n",
        "    return False\n",
        "\n",
        "  evaluation=True\n",
        "  current_params = np.ones(obs_shape) * -1\n",
        "  best_params = np.ones(obs_shape)\n",
        "  rps_params = RandomPolicySearchParams(current_params, best_params)\n",
        "  action, actor_state = choose_action(key,rps_params,actor_state,obs,evaluation)\n",
        "  if action != 1:\n",
        "    return False\n",
        "\n",
        "  return True\n",
        "\n",
        "try:\n",
        "  if check_random_policy_search_choose_action(random_policy_search_choose_action):\n",
        "    print(\"Your function looks correct.\")\n",
        "  else:\n",
        "    print(\"Your function looks incorrect.\")\n",
        "except Exception as e:\n",
        "    print(\"An Error Occured: {}\".format(e))"
      ]
    },
    {
      "cell_type": "markdown",
      "metadata": {
        "id": "6zu51ep7Sh0M"
      },
      "source": [
        "### Память агента RPS\n",
        "\n",
        "Для алгоритма поиска случайной политики нам нужно будет отслеживать средний возврат эпизода для последних 50 эпизодов. Помните, что мы сказали, что «текущие» параметры будут считаться «лучшими» параметрами, если средний возврат эпизода при использовании этих параметров больше предыдущего лучшего среднего возврата эпизода.\n",
        "\n",
        "Мы будем использовать интерфейс памяти общего назначения, который довольно прост. Модуль памяти должен иметь три метода. Первый — это функция `memory.push(<transition>)`, которая добавляет некоторую информацию о последнем переходе среды в память. Второй — это функция `memory.is_ready()`, которая проверяет, готова ли память к обучению. Наконец, функция `memory.sample()` должна возвращать последний набор воспоминаний, которые можно передать в `agent_learn_func`.\n",
        "\n",
        "#### Память среднего возврата эпизода\n",
        "Мы создали для вас простой модуль памяти агента. Он хранит `epsisode_returns` последних 20 эпизодов. Прочитайте нашу реализацию ниже и посмотрите, сможете ли вы ее понять. Метод `memory.sample()` возвращает средний возврат эпизода за последние 20 эпизодов."
      ]
    },
    {
      "cell_type": "code",
      "execution_count": 15,
      "metadata": {
        "id": "YVkTBIK5RjM1"
      },
      "outputs": [],
      "source": [
        "class AverageEpisodeReturnBuffer:\n",
        "\n",
        "    def __init__(self, num_episodes_to_store=50):\n",
        "        \"\"\"\n",
        "        This class implements an agent memory that stores the average episode\n",
        "        return over the last 50 episodes.\n",
        "        \"\"\"\n",
        "        self.num_episodes_to_store = num_episodes_to_store\n",
        "        self.episode_return_buffer = []\n",
        "        self.current_episode_return = 0\n",
        "\n",
        "    def push(self, transition):\n",
        "        self.current_episode_return += transition.reward\n",
        "\n",
        "        if transition.done: # If the episode is done\n",
        "            # Add episode return to buffer\n",
        "            self.episode_return_buffer.append(self.current_episode_return)\n",
        "\n",
        "            # Reset episode return\n",
        "            self.current_episode_return = 0\n",
        "\n",
        "\n",
        "    def is_ready(self):\n",
        "        return len(self.episode_return_buffer) == self.num_episodes_to_store\n",
        "\n",
        "    def sample(self):\n",
        "        average_episode_return = np.mean(self.episode_return_buffer)\n",
        "\n",
        "        # Clear episode return buffer\n",
        "        self.episode_return_buffer = []\n",
        "\n",
        "        return average_episode_return"
      ]
    },
    {
      "cell_type": "markdown",
      "metadata": {
        "id": "0oXBsSa2KjWE"
      },
      "source": [
        "### Функция обучения RPS\n",
        "Наконец, нам нужно реализовать функцию `random_policy_search_learn` для нашего алгоритма поиска случайной политики. Функция обучения довольно проста. Все, что нам нужно сделать, это проверить, лучше ли текущие параметры, чем лучшие параметры. Если они лучше, то установите лучшие параметры в качестве текущих параметров и случайным образом сгенерируйте новый набор текущих параметров.\n",
        "\n",
        "**Упражнение 4:** Напишите функцию для случайной генерации новых весов с использованием JAX. Веса должны быть выбраны из интервала `[-2,2]`.\n",
        "\n",
        "**Полезные функции:**\n",
        "*   `jax.random.uniform` ([docs](https://jax.readthedocs.io/en/latest/_autosummary/jax.random.uniform.html#jax.random.uniform))\n",
        "\n"
      ]
    },
    {
      "cell_type": "code",
      "execution_count": 16,
      "metadata": {
        "id": "8V2yFM2XMjGW"
      },
      "outputs": [],
      "source": [
        "def get_new_random_weights(random_key, old_weights, minval=-2.0, maxval=2.0):\n",
        "    new_weights_shape = old_weights.shape # you will need to use these values\n",
        "    new_weights_dtype = old_weights.dtype # you will need to use these values\n",
        "\n",
        "    # YOUR CODE\n",
        "\n",
        "    new_params = jax.random.uniform(random_key, new_weights_shape, minval=minval, maxval=maxval).astype(new_weights_dtype)\n",
        "\n",
        "    # END YOUR CODE\n",
        "\n",
        "    return new_params"
      ]
    },
    {
      "cell_type": "code",
      "execution_count": 17,
      "metadata": {
        "id": "T8ifHTKGQlAd",
        "colab": {
          "base_uri": "https://localhost:8080/"
        },
        "outputId": "4232afed-e1f5-422a-f502-1c439e4b011c"
      },
      "outputs": [
        {
          "output_type": "stream",
          "name": "stdout",
          "text": [
            "Function is correct!\n"
          ]
        }
      ],
      "source": [
        "# @title Проверка упр 4 (run me) {display-mode: \"form\"}\n",
        "\n",
        "def check_get_new_random_weights(get_new_random_weights):\n",
        "  old_weights = np.ones(obs_shape, \"float32\")\n",
        "  random_key = jax.random.PRNGKey(42)\n",
        "\n",
        "  # Case 1\n",
        "  new_weights = get_new_random_weights(random_key, old_weights, minval=-2.0, maxval=2.0)\n",
        "\n",
        "  if jnp.array_equal(new_weights, jnp.array([ 0.29657745,1.4265499, -1.7621555, -1.7505779 ])):\n",
        "    print(\"Function is correct!\")\n",
        "  else:\n",
        "    print(\"Something is wrong.\")\n",
        "\n",
        "try:\n",
        "  check_get_new_random_weights(get_new_random_weights)\n",
        "except Exception as e:\n",
        "    print(\"An Error Occured: {}\".format(e))"
      ]
    },
    {
      "cell_type": "markdown",
      "metadata": {
        "id": "2Djxc9j-LzkM"
      },
      "source": [
        "Наша функция обучения получает память в форме среднего возврата эпизода из `AverageEpisodeReturnMemory`, которую мы реализовали ранее. Мы можем использовать это для сравнения текущих параметров с лучшими параметрами. Но нам также нужно будет отслеживать лучший средний возврат эпизода для функции обучения. Для этого мы можем использовать аргумент `learn_state`, который передается в `agent_learn_func` в нашем цикле обучения. Как и в случае с `RandomPolicySearchParams`, мы будем использовать NamedTuple для хранения `best_average_episode_return` в `learn_state`."
      ]
    },
    {
      "cell_type": "code",
      "execution_count": 18,
      "metadata": {
        "id": "4cSH4uYmRjM2",
        "colab": {
          "base_uri": "https://localhost:8080/"
        },
        "outputId": "275fbec2-2c09-4a0f-bf7f-a77e326e0ccb"
      },
      "outputs": [
        {
          "output_type": "stream",
          "name": "stdout",
          "text": [
            "Initial best average episode return: -inf\n"
          ]
        }
      ],
      "source": [
        "# A NamedTuple to store the best average episode return so far\n",
        "RandomPolicyLearnState = collections.namedtuple(\n",
        "  \"RandomPolicyLearnState\",\n",
        "  [\"best_average_episode_return\"]\n",
        ")\n",
        "\n",
        "# Test\n",
        "initial_learn_state = RandomPolicyLearnState(best_average_episode_return=-float(\"inf\"))\n",
        "print(\"Initial best average episode return:\", initial_learn_state.best_average_episode_return)"
      ]
    },
    {
      "cell_type": "markdown",
      "metadata": {
        "id": "PxZXdP8bOu6b"
      },
      "source": [
        "Теперь у нас есть все необходимое для реализации функции `random_policy_search_learn`.\n",
        "\n",
        "**Упражнение 5:** Реализуйте функцию `random_policy_search_learn`. Функция должна проверять, лучше ли «текущие» параметры, чем «лучшие» параметры, сравнивая `current_average_episode_return` с `best_average_episode_return`. Функция также должна обновлять `learn_state`."
      ]
    },
    {
      "cell_type": "code",
      "execution_count": 19,
      "metadata": {
        "id": "Te_Q3qzmZcN_"
      },
      "outputs": [],
      "source": [
        "def random_policy_search_learn(key, params, learn_state, memory):\n",
        "    best_params = params.best\n",
        "    current_params = params.current\n",
        "\n",
        "    current_average_episode_return = memory # the memory contains the average episode return\n",
        "    best_average_episode_return = learn_state.best_average_episode_return\n",
        "\n",
        "\n",
        "    # YOUR CODE\n",
        "\n",
        "    best_params = jax.lax.select(\n",
        "        current_average_episode_return > best_average_episode_return,\n",
        "        current_params,\n",
        "        best_params\n",
        "    )\n",
        "\n",
        "    best_average_episode_return = jax.lax.select(\n",
        "        current_average_episode_return > best_average_episode_return,\n",
        "        current_average_episode_return,\n",
        "        best_average_episode_return\n",
        "    )\n",
        "\n",
        "    # END YOUR CODE\n",
        "\n",
        "    # Generate new random parameters\n",
        "    new_params = get_new_random_weights(key, current_params)\n",
        "\n",
        "    # Bundle weights in RandomPolicySearchParams NamedTuple\n",
        "    params = RandomPolicySearchParams(current=new_params, best=best_params)\n",
        "\n",
        "    return params, RandomPolicyLearnState(best_average_episode_return)"
      ]
    },
    {
      "cell_type": "code",
      "execution_count": 20,
      "metadata": {
        "id": "CXHV4k2iBLBF",
        "colab": {
          "base_uri": "https://localhost:8080/"
        },
        "outputId": "faac9f1c-d701-43b9-b22f-79e548f3564a"
      },
      "outputs": [
        {
          "output_type": "stream",
          "name": "stdout",
          "text": [
            "Your function looks correct.\n"
          ]
        }
      ],
      "source": [
        "#@title Проверка упр 5 {display-mode: \"form\"}\n",
        "\n",
        "params = RandomPolicySearchParams(np.ones(obs_shape, \"float32\"), np.ones(obs_shape, \"float32\") * -1)\n",
        "learn_state = RandomPolicyLearnState(10)\n",
        "memory = 11\n",
        "key = jax.random.PRNGKey(42)\n",
        "\n",
        "try:\n",
        "  new_params, new_learn_state = random_policy_search_learn(key, params, learn_state, memory)\n",
        "\n",
        "  if not jnp.array_equal(new_params.current, jnp.array([ 0.29657745,  1.4265499 , -1.7621555 , -1.7505779 ])):\n",
        "    print(\"Your function is incorrect.\")\n",
        "\n",
        "  elif not jnp.array_equal(new_params.best, jnp.array([1., 1., 1., 1.])):\n",
        "    print(\"Your function is incorrect.\")\n",
        "\n",
        "  elif new_learn_state.best_average_episode_return != 11:\n",
        "    print(\"Your function is incorrect.\")\n",
        "\n",
        "  else:\n",
        "    print(\"Your function looks correct.\")\n",
        "except Exception as e:\n",
        "    print(\"An Error Occured: {}\".format(e))"
      ]
    },
    {
      "cell_type": "markdown",
      "metadata": {
        "id": "5Ol_AxnMBdgP"
      },
      "source": [
        "### Цикл обучения RPS\n",
        "Теперь мы можем собрать все вместе, передав модуль `memory`, функцию `learn` и функцию `choose_action` в цикл обучения. Чтобы ускорить наш алгоритм, мы будем использовать `jax.jit` в функции `learn` и функции `choose_action`."
      ]
    },
    {
      "cell_type": "code",
      "execution_count": 21,
      "metadata": {
        "id": "Qx57tf7vRjM3",
        "colab": {
          "base_uri": "https://localhost:8080/",
          "height": 680
        },
        "outputId": "fe9e1b3f-e068-4cd6-d608-2b0d49f7b702"
      },
      "outputs": [
        {
          "output_type": "stream",
          "name": "stdout",
          "text": [
            "Starting training. This may take up to 5 minutes to complete.\n",
            "Episode: 0\tEpisode Return: 80.0\tAverage Episode Return: 80.0\tEvaluator Episode Return: 138.25\n",
            "Episode: 100\tEpisode Return: 11.0\tAverage Episode Return: 70.45\tEvaluator Episode Return: 143.75\n",
            "Episode: 200\tEpisode Return: 10.0\tAverage Episode Return: 9.25\tEvaluator Episode Return: 144.375\n",
            "Episode: 300\tEpisode Return: 22.0\tAverage Episode Return: 9.9\tEvaluator Episode Return: 141.875\n",
            "Episode: 400\tEpisode Return: 62.0\tAverage Episode Return: 82.45\tEvaluator Episode Return: 134.625\n",
            "Episode: 500\tEpisode Return: 10.0\tAverage Episode Return: 8.75\tEvaluator Episode Return: 140.125\n",
            "Episode: 600\tEpisode Return: 83.0\tAverage Episode Return: 41.7\tEvaluator Episode Return: 134.25\n",
            "Episode: 700\tEpisode Return: 10.0\tAverage Episode Return: 114.8\tEvaluator Episode Return: 167.375\n",
            "Episode: 800\tEpisode Return: 9.0\tAverage Episode Return: 65.15\tEvaluator Episode Return: 161.375\n",
            "Episode: 900\tEpisode Return: 122.0\tAverage Episode Return: 156.65\tEvaluator Episode Return: 90.375\n",
            "Episode: 1000\tEpisode Return: 101.0\tAverage Episode Return: 14.35\tEvaluator Episode Return: 172.375\n"
          ]
        },
        {
          "output_type": "display_data",
          "data": {
            "text/plain": [
              "<Figure size 640x480 with 1 Axes>"
            ],
            "image/png": "[encoded data removed]"
          },
          "metadata": {}
        }
      ],
      "source": [
        "# JIT the learn and choose action functions\n",
        "random_policy_search_learn_jit = jax.jit(random_policy_search_learn)\n",
        "random_policy_search_choose_action_jit = jax.jit(random_policy_search_choose_action)\n",
        "\n",
        "# Initialise the parameters\n",
        "initial_weights = np.ones(obs_shape, \"float32\")\n",
        "initial_params = RandomPolicySearchParams(initial_weights, initial_weights)\n",
        "\n",
        "# Initialise the learn state\n",
        "initial_learn_state = RandomPolicyLearnState(best_average_episode_return=-float(\"inf\"))\n",
        "\n",
        "# Initialise memory\n",
        "memory = AverageEpisodeReturnBuffer(num_episodes_to_store=50)\n",
        "\n",
        "# Run the training loop\n",
        "print(\"Starting training. This may take up to 5 minutes to complete.\")\n",
        "chex.clear_trace_counter()\n",
        "episode_return, evaluator_episode_returns = run_training_loop(\n",
        "                                        env_name,\n",
        "                                        initial_params,\n",
        "                                        random_policy_search_choose_action_jit,\n",
        "                                        None, # no actor state\n",
        "                                        random_policy_search_learn_jit,\n",
        "                                        initial_learn_state,\n",
        "                                        memory,\n",
        "                                        num_episodes=1001,\n",
        "                                        video_subdir=\"rps\"\n",
        "                                    )\n",
        "\n",
        "# Plot graph of evaluator episode returns\n",
        "plt.plot(np.linspace(0, 1000, len(evaluator_episode_returns)), evaluator_episode_returns)\n",
        "plt.title(\"Random Policy Search\")\n",
        "plt.xlabel(\"Episodes\")\n",
        "plt.ylabel(\"Episode Return\")\n",
        "plt.show()"
      ]
    },
    {
      "cell_type": "markdown",
      "metadata": {
        "id": "TG10FG6uS05A"
      },
      "source": [
        "Надеюсь, вы нашли набор оптимальных параметров на CartPole (возврат эпизода достигает `200`). В ячейке ниже вы можете посмотреть несколько видеороликов агента, выполняющего задание."
      ]
    },
    {
      "cell_type": "code",
      "execution_count": 22,
      "metadata": {
        "id": "KgayDJ7KWC4C",
        "colab": {
          "base_uri": "https://localhost:8080/",
          "height": 288
        },
        "outputId": "9d3f4d58-2509-44f0-cc5f-e44e23ff89a0"
      },
      "outputs": [
        {
          "output_type": "execute_result",
          "data": {
            "text/plain": [
              "<IPython.core.display.HTML object>"
            ],
            "text/html": [
              "\n",
              "<video width=400 controls>\n",
              "      <source src=\"data:video/mp4;base64,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\" type=\"video/mp4\">\n",
              "</video>\n"
            ]
          },
          "metadata": {},
          "execution_count": 22
        }
      ],
      "source": [
        "#@title Visualise Policy {display-mode: \"form\"}\n",
        "#@markdown Choose an episode number that is a multiple of 100 and less than or equal to 2000, and **run** this cell.\n",
        "episode_number = 1000 #@param {type:\"number\"}\n",
        "\n",
        "assert (episode_number % 100) == 0, \"Episode number must be a multiple of 100 since we only record every 100th episode.\"\n",
        "assert episode_number < 1001, \"Episode number must be less than or equal to 2000\"\n",
        "\n",
        "eval_episode_number = int(episode_number / 100 * 8)\n",
        "video_path = f\"./video/rps/eval/rl-video-episode-{eval_episode_number}.mp4\"\n",
        "\n",
        "mp4 = open(video_path,'rb').read()\n",
        "data_url = \"data:video/mp4;base64,\" + b64encode(mp4).decode()\n",
        "HTML(\"\"\"\n",
        "<video width=400 controls>\n",
        "      <source src=\"%s\" type=\"video/mp4\">\n",
        "</video>\n",
        "\"\"\" % data_url)"
      ]
    },
    {
      "cell_type": "markdown",
      "metadata": {
        "id": "Xwf1IKKbrrVn"
      },
      "source": [
        "Итак, случайный поиск политики справился с этой задачей довольно хорошо. Однако здесь происходит очень мало (если вообще происходит) реального *обучения*. Далее давайте рассмотрим реализацию простого алгоритма RL, который может использовать свой опыт для руководства нашим поиском оптимальной политики, а не просто искать ее случайным образом."
      ]
    },
    {
      "cell_type": "markdown",
      "metadata": {
        "id": "XEnSjZVESrxc"
      },
      "source": [
        "## 3. Градиенты политики  (Policy Gradients, PG)\n",
        "Как обсуждалось, цель RL — найти политику, которая максимизирует ожидаемое совокупное вознаграждение (возврат), которое агент получает от среды. Мы можем записать ожидаемый возврат политики как:\n",
        "\n",
        "$J(\\pi_\\theta)=\\mathrm{E}_{\\tau\\sim\\pi_\\theta}\\ [R(\\tau)]$,\n",
        "\n",
        "где $\\pi_\\theta$ — это политика, параметризованная $\\theta$, $\\mathrm{E}$ означает *ожидание*, $\\tau$ — это сокращение для \"*эпизод*\", $\\tau\\sim\\pi_\\theta$ — это сокращение для \"*эпизоды, выбранные с использованием политики* $\\pi_\\theta$\", а $R(\\tau)$ — это возврат эпизода $\\tau$.\n",
        "\n",
        "Затем, цель в RL — найти параметры $\\theta$, которые максимизируют функцию $J(\\pi_\\theta)$. Один из способов найти эти параметры — выполнить градиентный подъем по $J(\\pi_\\theta)$ относительно параметров $\\theta$:\n",
        "\n",
        "$\\theta_{k+1}=\\theta_k + \\alpha \\nabla J(\\pi_\\theta)|_{\\theta_{k}}$,\n",
        "\n",
        "где $\\nabla J(\\pi_\\theta)|_{\\theta_{k}}$ — градиент ожидаемой доходности относительно параметров политики $\\theta_k$, а $\\alpha$ — размер шага. Эта величина, $\\nabla J(\\pi_\\theta)$, также называется **градиентом политики** и очень важна в RL. Если мы сможем вычислить градиент политики, то у нас будет средство, с помощью которого можно напрямую оптимизировать нашу политику.\n",
        "\n",
        "Как оказалось, у нас есть способ вычислить градиент политики, и математический вывод можно найти [здесь](https://spinningup.openai.com/en/latest/spinningup/rl_intro3.html). Но для этого руководства мы опустим вывод и просто дадим вам результат:\n",
        "\n",
        "$\\nabla_{\\theta} J(\\pi_{\\theta})=\\underset{\\tau \\sim \\pi_{\\theta}}{\\mathrm{E}}[\\sum_{t=0}^{T} \\nabla_{\\theta} \\log \\pi_{\\theta}(a_{t} \\mid s_{t}) R(\\tau)]$\n",
        "\n",
        "Неформально, градиент политики равен градиенту логарифма вероятности выбранного действия, умноженного на возврат эпизода, в котором было предпринято действие.\n"
      ]
    },
    {
      "cell_type": "markdown",
      "metadata": {
        "id": "BTnTzgtSuy-y"
      },
      "source": [
        "### REINFORCE\n",
        "REINFORCE — это простой алгоритм RL, который использует градиент политики для поиска оптимальной политики путем увеличения вероятности выбора действий (усиливающих действий), которые, как правило, приводят к эпизодам с высокой отдачей.\n",
        "\n",
        "**Упражнение 6:** Реализуйте функцию, которая берет вероятность действия и отдачу эпизода, в котором действие было предпринято, и вычисляет логарифм вероятности, умноженный на отдачу. Убедитесь, что вы используете JAX.\n",
        "\n",
        "**Полезные функции:**\n",
        "*   `jax.numpy.log`([docs](https://jax.readthedocs.io/en/latest/_autosummary/jax.numpy.log.html))"
      ]
    },
    {
      "cell_type": "code",
      "execution_count": 23,
      "metadata": {
        "id": "bJObUsoUrOyV"
      },
      "outputs": [],
      "source": [
        "import jax.numpy as jnp\n",
        "\n",
        "def compute_weighted_log_prob(action_prob, episode_return):\n",
        "\n",
        "    # YOUR CODE\n",
        "\n",
        "    log_prob = jnp.log(action_prob)\n",
        "\n",
        "    weighted_log_prob = log_prob * episode_return\n",
        "\n",
        "    # END YOUR CODE\n",
        "\n",
        "    return weighted_log_prob"
      ]
    },
    {
      "cell_type": "code",
      "execution_count": 24,
      "metadata": {
        "id": "eZPoTwa1Gbm1",
        "colab": {
          "base_uri": "https://localhost:8080/"
        },
        "outputId": "d7ed5945-e17f-4854-9d33-12549ac17b9f"
      },
      "outputs": [
        {
          "output_type": "stream",
          "name": "stdout",
          "text": [
            "Looks correct.\n"
          ]
        }
      ],
      "source": [
        "#@title Проверка упр 6 {display-mode: \"form\"}\n",
        "\n",
        "try:\n",
        "  action_prob = 0.8\n",
        "  episode_return = 100\n",
        "  result = compute_weighted_log_prob(action_prob, episode_return)\n",
        "  if result != -22.314354:\n",
        "    print(\"Your implementation looks incorrect.\")\n",
        "  else:\n",
        "    print(\"Looks correct.\")\n",
        "except Exception as e:\n",
        "    print(\"An Error Occured: {}\".format(e))"
      ]
    },
    {
      "cell_type": "markdown",
      "metadata": {
        "id": "NmgW9UJ3tIpl"
      },
      "source": [
        "### Rewards-to-go\n",
        "Выполнение градиентного подъема по градиенту логарифма вероятности действия, взвешенного по возврату эпизода, будет иметь тенденцию повышать вероятность действий, которые были в эпизодах с высоким возвратом, независимо от того, *где* в эпизоде ​​было выполнено действие. Это на самом деле не имеет большого смысла, потому что действие ближе к концу эпизода может быть подкреплено, потому что много вознаграждения было собрано ранее в эпизоде, *до* того, как было выполнено действие. Агенты RL должны на самом деле подкреплять действия только на основе их *последствий*. Вознаграждения, полученные до выполнения действия, не влияют на то, насколько хорошим было это действие: только вознаграждения, которые приходят после. Накопленные вознаграждения, полученные после выполнения действия, называются **вознаграждениями-к-переходу** и могут быть вычислены как:\n",
        "\n",
        "$\\hat{R}_i=\\sum_{t=i}^Tr_t$\n",
        "\n",
        "Сравните это с доходностью эпизода:\n",
        "\n",
        "$R(\\tau)=\\sum_{t=0}^Tr_t$\n",
        "\n",
        "Мы можем повысить надежность градиента политики, заменив доходность эпизода на вознаграждения-к-переходу. Градиент политики с оставшимися наградами задается следующим образом:\n",
        "\n",
        "$\\nabla_{\\theta} J(\\pi_{\\theta})=\\underset{\\tau \\sim \\pi_{\\theta}}{\\mathrm{E}}[\\sum_{t=0}^{T} \\nabla_{\\theta} \\log \\pi_{\\theta}(a_{t} \\mid s_{t}) \\hat{R}_t]$\n",
        "\n",
        "**Упражнение 7:** Реализуйте функцию, которая берет список всех наград, полученных в эпизоде, и вычисляет оставшиеся награды. Не беспокойтесь об использовании JAX в этой функции. Вы можете использовать обычные операции Python, такие как `for-loops`."
      ]
    },
    {
      "cell_type": "code",
      "execution_count": 25,
      "metadata": {
        "id": "nV1Hww8E3dUJ"
      },
      "outputs": [],
      "source": [
        "def compute_rewards_to_go(rewards):\n",
        "    \"\"\"\n",
        "    This function should take a list of rewards as input and\n",
        "    compute the rewards-to-go for each timestep.\n",
        "\n",
        "    EXAMPLE: compute_rewards_to_go([1,2,3,4]) = [10, 9, 7, 4]\n",
        "\n",
        "    Arguments:\n",
        "        rewards[t] is the reward at time step t.\n",
        "\n",
        "    Returns:\n",
        "        rewards_to_go[t] should be the reward-to-go at timestep t.\n",
        "    \"\"\"\n",
        "\n",
        "    rewards_to_go = []\n",
        "\n",
        "    # YOUR CODE\n",
        "    total_reward = 0\n",
        "    for reward in reversed(rewards):\n",
        "      total_reward += reward\n",
        "      rewards_to_go.insert(0, total_reward)\n",
        "\n",
        "    # END YOUR CODE\n",
        "\n",
        "    return rewards_to_go"
      ]
    },
    {
      "cell_type": "code",
      "execution_count": 26,
      "metadata": {
        "id": "hLVaVRp28YGI",
        "colab": {
          "base_uri": "https://localhost:8080/"
        },
        "outputId": "67f17aa8-ea4e-4146-90ac-60e0e700052c"
      },
      "outputs": [
        {
          "output_type": "stream",
          "name": "stdout",
          "text": [
            "Looks correct.\n"
          ]
        }
      ],
      "source": [
        "#@title Проверка упр 7 {display-mode: \"form\"}\n",
        "\n",
        "try:\n",
        "  result = compute_rewards_to_go([1,2,3,4])\n",
        "\n",
        "  if result != [10, 9, 7, 4]:\n",
        "    print(\"There is a problem with your implementation.\")\n",
        "  else:\n",
        "    print(\"Looks correct.\")\n",
        "except Exception as e:\n",
        "    print(\"An Error Occured: {}\".format(e))\n"
      ]
    },
    {
      "cell_type": "markdown",
      "metadata": {
        "id": "IboxN9MS65i5"
      },
      "source": [
        "### REINFORCE memory\n",
        "Далее нам нужно будет создать новую память агента для хранения вознаграждений $\\hat{R}_t$ вместе с наблюдением $o_t$ и действием $a_t$ на каждом временном шаге. Ниже мы реализовали такой модуль памяти для вас. Функция `memory.sample()` вернет пакет из последних 500 воспоминаний. Вы можете прочитать код, чтобы попытаться понять его, но это не обязательно. Поэтому мы скрываем код по умолчанию."
      ]
    },
    {
      "cell_type": "code",
      "execution_count": 27,
      "metadata": {
        "id": "xhS4V6auRjM3"
      },
      "outputs": [],
      "source": [
        "# @title Реализация памяти (run me) {display-mode: \"form\"}\n",
        "\n",
        "# NamedTuple to store memory\n",
        "EpisodeRewardsToGoMemory = collections.namedtuple(\"EpisodeRewardsToGoMemory\", [\"obs\", \"action\", \"reward_to_go\"])\n",
        "\n",
        "class EpisodeRewardsToGoBuffer:\n",
        "\n",
        "    def __init__(self, num_transitions_to_store=512, batch_size=256):\n",
        "        self.batch_size = batch_size\n",
        "        self.memory_buffer = collections.deque(maxlen=num_transitions_to_store)\n",
        "        self.current_episode_transition_buffer = []\n",
        "\n",
        "    def push(self, transition):\n",
        "        self.current_episode_transition_buffer.append(transition)\n",
        "\n",
        "        if transition.done:\n",
        "\n",
        "            episode_rewards = []\n",
        "            for t in self.current_episode_transition_buffer:\n",
        "                episode_rewards.append(t.reward)\n",
        "\n",
        "            r2g = compute_rewards_to_go(episode_rewards)\n",
        "\n",
        "            for i, t in enumerate(self.current_episode_transition_buffer):\n",
        "                memory = EpisodeRewardsToGoMemory(t.obs, t.action, r2g[i])\n",
        "                self.memory_buffer.append(memory)\n",
        "\n",
        "            # Reset episode buffer\n",
        "            self.current_episode_transition_buffer = []\n",
        "\n",
        "\n",
        "    def is_ready(self):\n",
        "        return len(self.memory_buffer) >= self.batch_size\n",
        "\n",
        "    def sample(self):\n",
        "        random_memory_sample = random.sample(self.memory_buffer, self.batch_size)\n",
        "\n",
        "        obs_batch, action_batch, reward_to_go_batch = zip(*random_memory_sample)\n",
        "\n",
        "        return EpisodeRewardsToGoMemory(\n",
        "            np.stack(obs_batch).astype(\"float32\"),\n",
        "            np.asarray(action_batch).astype(\"int32\"),\n",
        "            np.asarray(reward_to_go_batch).astype(\"int32\")\n",
        "        )\n",
        "\n",
        "\n",
        "# Instantiate Memory\n",
        "REINFORCE_memory = EpisodeRewardsToGoBuffer(num_transitions_to_store=512, batch_size=256)"
      ]
    },
    {
      "cell_type": "markdown",
      "metadata": {
        "id": "Idkav_aSYXvz"
      },
      "source": [
        "### Policy neural network\n",
        "Далее мы будем использовать простую нейронную сеть для аппроксимации политики. Наша нейронная сеть политики будет иметь входной слой, который принимает наблюдение в качестве входных данных и пропускает его через два скрытых слоя, а затем выводит одно скалярное значение для каждого из возможных действий. Таким образом, в CartPole выходной слой будет иметь размер `2`.\n",
        "\n",
        "[Haiku](https://github.com/deepmind/dm-haiku) — это библиотека для реализации нейронных сетей в JAX. Ниже мы реализовали простую функцию для создания сети политики для вас.\n"
      ]
    },
    {
      "cell_type": "code",
      "execution_count": 28,
      "metadata": {
        "id": "j2XO7VkORjM4"
      },
      "outputs": [],
      "source": [
        "def make_policy_network(num_actions: int, layers=[20, 20]) -> hk.Transformed:\n",
        "  \"\"\"Factory for a simple MLP network for the policy.\"\"\"\n",
        "\n",
        "  def policy_network(obs):\n",
        "    network = hk.Sequential(\n",
        "        [\n",
        "            hk.Flatten(),\n",
        "            hk.nets.MLP(layers + [num_actions])\n",
        "        ]\n",
        "    )\n",
        "    return network(obs)\n",
        "\n",
        "  return hk.without_apply_rng(hk.transform(policy_network))"
      ]
    },
    {
      "cell_type": "markdown",
      "metadata": {
        "id": "1GR2y8FjaG-G"
      },
      "source": [
        "У сетей Haiku есть две важные функции, о которых вам нужно знать. Первая — `network.init(<random_key>, <input>)`, которая возвращает набор случайных начальных параметров. Второй метод — `network.apply(<params>, <input>)`, который передает входные данные через сеть, используя предоставленный набор параметров."
      ]
    },
    {
      "cell_type": "code",
      "execution_count": 29,
      "metadata": {
        "id": "fJrn9o-Vatkw",
        "colab": {
          "base_uri": "https://localhost:8080/"
        },
        "outputId": "99bb962f-a8b0-48c8-c6a5-e1bb2ded9585"
      },
      "outputs": [
        {
          "output_type": "stream",
          "name": "stdout",
          "text": [
            "Initial params: dict_keys(['mlp/~/linear_0', 'mlp/~/linear_1', 'mlp/~/linear_2'])\n",
            "Policy network output: [ 0.91155875 -0.3961737 ]\n"
          ]
        }
      ],
      "source": [
        "# Example\n",
        "POLICY_NETWORK = make_policy_network(num_actions=num_actions, layers=[20,20])\n",
        "random_key = jax.random.PRNGKey(42) # random key\n",
        "dummy_obs = np.ones(obs_shape, \"float32\")\n",
        "\n",
        "# Initialise parameters\n",
        "REINFORCE_params = POLICY_NETWORK.init(random_key, dummy_obs)\n",
        "print(\"Initial params:\", REINFORCE_params.keys())\n",
        "\n",
        "# Pass input through the network\n",
        "output = POLICY_NETWORK.apply(REINFORCE_params, dummy_obs)\n",
        "print(\"Policy network output:\", output)\n"
      ]
    },
    {
      "cell_type": "markdown",
      "metadata": {
        "id": "MlouUBvoeunz"
      },
      "source": [
        "Выходы нашей сети политик — [логиты](https://qr.ae/pv4YTe). Чтобы преобразовать это в распределение вероятностей по действиям, мы передаем логиты в функцию [softmax](https://en.wikipedia.org/wiki/Softmax_function).\n",
        "\n",
        "### УСИЛЕНИЕ выбор функции действия\n",
        "\n",
        "**Упражнение 8:** Завершите функцию ниже, которая берет вектор логитов и случайным образом выбирает действие из категориального распределения, заданного логитами.\n",
        "\n",
        "**Полезные функции:**"
      ]
    },
    {
      "cell_type": "code",
      "execution_count": 30,
      "metadata": {
        "id": "m3Z8DxUmeOGJ"
      },
      "outputs": [],
      "source": [
        "def sample_action(random_key, logits):\n",
        "\n",
        "  # YOUR CODE HERE\n",
        "  action = jax.random.categorical(random_key, logits)\n",
        "\n",
        "  # END YOUR code\n",
        "\n",
        "  return action"
      ]
    },
    {
      "cell_type": "code",
      "execution_count": 31,
      "metadata": {
        "id": "5opHJMO0D_Ub",
        "colab": {
          "base_uri": "https://localhost:8080/"
        },
        "outputId": "622c5bef-8332-4700-a858-acdf2c23e009"
      },
      "outputs": [
        {
          "output_type": "stream",
          "name": "stdout",
          "text": [
            "Seems correct.\n"
          ]
        }
      ],
      "source": [
        "#@title Проверка упр 8 {display-mode: \"form\"}\n",
        "\n",
        "try:\n",
        "  random_key = jax.random.PRNGKey(42) # random key\n",
        "  action = sample_action(random_key, np.array([1,2], \"float32\"))\n",
        "  if action != 1:\n",
        "    print(\"Your function is incorrect.\")\n",
        "  else:\n",
        "    print(\"Seems correct.\")\n",
        "except Exception as e:\n",
        "    print(\"An Error Occured: {}\".format(e))"
      ]
    },
    {
      "cell_type": "markdown",
      "metadata": {
        "id": "jP5UH87VRjM4"
      },
      "source": [
        "Теперь мы можем реализовать функцию `REINFORCE_choose_action`. Мы передадим наблюдение через сеть политики для вычисления логитов, а затем передадим логиты в функцию `sample_action` для выбора и действия."
      ]
    },
    {
      "cell_type": "code",
      "execution_count": 32,
      "metadata": {
        "id": "UJTzrDAZ0Ul5"
      },
      "outputs": [],
      "source": [
        "def REINFORCE_choose_action(key, params, actor_state, obs, evaluation=False):\n",
        "  obs = jnp.expand_dims(obs, axis=0) # add dummy batch dim before passing through network\n",
        "\n",
        "  # Pass obs through policy network to compute logits\n",
        "  logits = POLICY_NETWORK.apply(params, obs)\n",
        "  logits = logits[0] # remove batch dim\n",
        "\n",
        "  # Randomly sample action\n",
        "  sampled_action = sample_action(key, logits)\n",
        "\n",
        "  return sampled_action, actor_state"
      ]
    },
    {
      "cell_type": "markdown",
      "metadata": {
        "id": "NI26SLAb7iRo"
      },
      "source": [
        "Теперь, когда мы реализовали функцию `REINFORCE_choose_action`, нам осталось только создать функцию `REINFORCE_learn`. Функция обучения должна использовать функцию `weighted_log_prob`, которую мы создали ранее, чтобы вычислить потери градиента политики и применить обновления градиента к нашей нейронной сети."
      ]
    },
    {
      "cell_type": "markdown",
      "metadata": {
        "id": "36ALCJESQJ8e"
      },
      "source": [
        "### Policy gradient loss\n",
        "\n",
        "\n",
        "**Упражнение 9:** Завершите функцию `policy_gradient_loss` ниже. Функция должна вычислять вероятности действий, пропуская `logits` через функцию softmax. Затем следует извлечь вероятность заданного `action` (используя индексацию массива) и вычислить `weighted_log_prob`, используя функцию, которую мы создали ранее.\n",
        "\n",
        "**Полезные методы:**\n",
        "*   `jax.nn.softmax` ([docs](https://jax.readthedocs.io/en/latest/_autosummary/jax.nn.softmax.html))"
      ]
    },
    {
      "cell_type": "code",
      "execution_count": 33,
      "metadata": {
        "id": "9sUKkqx0RjM4"
      },
      "outputs": [],
      "source": [
        "import jax.nn\n",
        "def policy_gradient_loss(action, logits, reward_to_go):\n",
        "\n",
        "    all_action_probs = jax.nn.softmax(logits)\n",
        "    print(\"all_action_probs:\", all_action_probs)\n",
        "\n",
        "    action_prob = all_action_probs[action]\n",
        "    print(\"action_prob:\", action_prob)\n",
        "\n",
        "    weighted_log_prob = compute_weighted_log_prob(action_prob, reward_to_go)\n",
        "    print(\"weighted_log_prob:\", weighted_log_prob)\n",
        "\n",
        "    loss = -weighted_log_prob\n",
        "\n",
        "    return loss"
      ]
    },
    {
      "cell_type": "code",
      "execution_count": 34,
      "metadata": {
        "id": "7AMJvau1FsM5",
        "colab": {
          "base_uri": "https://localhost:8080/"
        },
        "outputId": "f5395dfb-bfc2-477c-ce3b-5b6dd0a3cc2c"
      },
      "outputs": [
        {
          "output_type": "stream",
          "name": "stdout",
          "text": [
            "all_action_probs: [0.26894143 0.7310586 ]\n",
            "action_prob: 0.7310586\n",
            "weighted_log_prob: -3.1326165\n",
            "Your implementation looks wrong.\n"
          ]
        }
      ],
      "source": [
        "#@title Проверка упр 9 {display-mode: \"form\"}\n",
        "\n",
        "try:\n",
        "  result = policy_gradient_loss(1, np.array([1,2], \"float32\"), 10)\n",
        "  if result != 3.1326175:\n",
        "    print(\"Your implementation looks wrong.\")\n",
        "  else:\n",
        "    print(\"Looks correct.\")\n",
        "except Exception as e:\n",
        "  print(\"An Error Occured: {}\".format(e))\n"
      ]
    },
    {
      "cell_type": "markdown",
      "metadata": {
        "id": "Gzuqx1jJrwVx"
      },
      "source": [
        "Когда мы делаем шаг обновления градиента политики, мы захотим сделать это, используя пакет опыта, а не просто один опыт, как выше. Мы можем использовать функцию JAX [vmap](https://jax.readthedocs.io/en/latest/_autosummary/jax.vmap.html#jax.vmap), чтобы легко заставить нашу функцию `policy_gradient_loss` работать с пакетом опыта."
      ]
    },
    {
      "cell_type": "code",
      "execution_count": 35,
      "metadata": {
        "id": "3yq4naLURjM4",
        "colab": {
          "base_uri": "https://localhost:8080/"
        },
        "outputId": "72e7a061-3197-485b-a9f3-6ed3d1b0da53"
      },
      "outputs": [
        {
          "output_type": "stream",
          "name": "stdout",
          "text": [
            "all_action_probs: Traced<ShapedArray(float32[2])>with<BatchTrace(level=1/0)> with\n",
            "  val = Array([[0.78713346, 0.21286654],\n",
            "       [0.78713346, 0.21286654],\n",
            "       [0.78713346, 0.21286654]], dtype=float32)\n",
            "  batch_dim = 0\n",
            "action_prob: Traced<ShapedArray(float32[])>with<BatchTrace(level=1/0)> with\n",
            "  val = Array([0.21286654, 0.78713346, 0.78713346], dtype=float32)\n",
            "  batch_dim = 0\n",
            "weighted_log_prob: Traced<ShapedArray(float32[])>with<BatchTrace(level=1/0)> with\n",
            "  val = Array([-3.5583065, -1.0292372, -0.5026507], dtype=float32)\n",
            "  batch_dim = 0\n",
            "Policy gradient loss on batch: 1.6967314\n"
          ]
        }
      ],
      "source": [
        "def batched_policy_gradient_loss(params, obs_batch, action_batch, reward_to_go_batch):\n",
        "    # Get logits by passing observation through network\n",
        "    logits_batch = POLICY_NETWORK.apply(params, obs_batch)\n",
        "\n",
        "    policy_gradient_loss_batch = jax.vmap(policy_gradient_loss)(\n",
        "        action_batch,\n",
        "        logits_batch,\n",
        "        reward_to_go_batch) # add batch\n",
        "\n",
        "    # Compute mean loss over batch\n",
        "    mean_policy_gradient_loss = jnp.mean(policy_gradient_loss_batch)\n",
        "\n",
        "    return mean_policy_gradient_loss\n",
        "\n",
        "# TEST\n",
        "obs_batch = np.ones((3, *obs_shape), \"float32\")\n",
        "actions_batch = np.array([1,0,0])\n",
        "rew2go_batch = np.array([2.3, 4.3, 2.1])\n",
        "\n",
        "loss = batched_policy_gradient_loss(REINFORCE_params, obs_batch, actions_batch, rew2go_batch)\n",
        "\n",
        "print(\"Policy gradient loss on batch:\", loss)"
      ]
    },
    {
      "cell_type": "markdown",
      "metadata": {
        "id": "VDhTH3culwqo"
      },
      "source": [
        "### Оптимизатор сети\n",
        "\n",
        "Чтобы применить обновления градиента политики к нашей нейронной сети, мы будем использовать библиотеку JAX под названием [Optax](https://github.com/deepmind/optax). Optax имеет реализацию [оптимизатора Adam](https://www.geeksforgeeks.org/intuition-of-adam-optimizer/), которую мы можем использовать."
      ]
    },
    {
      "cell_type": "code",
      "execution_count": 36,
      "metadata": {
        "id": "pxXINlMHP5Ic"
      },
      "outputs": [],
      "source": [
        "REINFORCE_OPTIMIZER = optax.adam(1e-3)\n",
        "\n",
        "# Initialise the optimiser\n",
        "REINFORCE_optim_state = REINFORCE_OPTIMIZER.init(REINFORCE_params)"
      ]
    },
    {
      "cell_type": "markdown",
      "metadata": {
        "id": "ViENrHOALbCw"
      },
      "source": [
        "Теперь у нас есть все необходимое для создания функции `REINFORCE_learn`. Мы сохраним состояние оптимизатора в `learn_state`. Мы вычислим градиент потерь градиента политики с помощью  `jax.grad` ([docs](https://jax.readthedocs.io/en/latest/_autosummary/jax.grad.html))."
      ]
    },
    {
      "cell_type": "code",
      "execution_count": 37,
      "metadata": {
        "id": "CQr2Uz5ORjM5"
      },
      "outputs": [],
      "source": [
        "# A NamedTuple to store the state of the optimiser\n",
        "REINFORCELearnState = collections.namedtuple(\"LearnerState\", [\"optim_state\"])\n",
        "\n",
        "\n",
        "def REINFORCE_learn(key, params, learner_state, memory):\n",
        "\n",
        "  # Get the policy gradient by using `jax.grad()` on `batched_policy_gradient_loss`\n",
        "  grad_loss = jax.grad(batched_policy_gradient_loss)(params, memory.obs, memory.action, memory.reward_to_go)\n",
        "\n",
        "  # Get param updates using gradient and optimizer\n",
        "  updates, new_optim_state = REINFORCE_OPTIMIZER.update(grad_loss, learner_state.optim_state)\n",
        "\n",
        "  # Apply updates to params\n",
        "  params = optax.apply_updates(params, updates)\n",
        "\n",
        "  return params, REINFORCELearnState(new_optim_state) # update learner state"
      ]
    },
    {
      "cell_type": "markdown",
      "metadata": {
        "id": "5an3U2NhRKgG"
      },
      "source": [
        "### Цикл обучения REINFORCE\n",
        "Теперь мы можем обучить нашего агента REINFORCE, собрав все воедино с помощью цикла обучения."
      ]
    },
    {
      "cell_type": "code",
      "execution_count": 38,
      "metadata": {
        "id": "vioIcVGsRjM5",
        "colab": {
          "base_uri": "https://localhost:8080/",
          "height": 1000
        },
        "outputId": "2a736869-6357-4ebd-ad48-821942357c0a"
      },
      "outputs": [
        {
          "output_type": "stream",
          "name": "stdout",
          "text": [
            "Starting training. This may take up to 10 minutes to complete.\n",
            "Episode: 0\tEpisode Return: 12.0\tAverage Episode Return: 12.0\tEvaluator Episode Return: 16.625\n",
            "all_action_probs: Traced<ShapedArray(float32[2])>with<BatchTrace(level=4/0)> with\n",
            "  val = Traced<ShapedArray(float32[256,2])>with<JVPTrace(level=3/0)> with\n",
            "    primal = Traced<ShapedArray(float32[256,2])>with<DynamicJaxprTrace(level=1/0)>\n",
            "    tangent = Traced<ShapedArray(float32[256,2])>with<JaxprTrace(level=2/0)> with\n",
            "      pval = (ShapedArray(float32[256,2]), None)\n",
            "      recipe = JaxprEqnRecipe(eqn_id=<object object at 0x7fe57df111f0>, in_tracers=(Traced<ShapedArray(float32[256,2]):JaxprTrace(level=2/0)>, Traced<ShapedArray(float32[256,1]):JaxprTrace(level=2/0)>, Traced<ShapedArray(float32[256,1]):JaxprTrace(level=2/0)>, Traced<ShapedArray(float32[256,2]):JaxprTrace(level=2/0)>, Traced<ShapedArray(float32[256,1]):JaxprTrace(level=2/0)>), out_tracer_refs=[<weakref at 0x7fe57df669d0; to 'JaxprTracer' at 0x7fe57df66fc0>], out_avals=[ShapedArray(float32[256,2])], primitive=pjit, params={'jaxpr': { lambda ; a:f32[256,2] b:f32[256,1] c:f32[256,1] d:f32[256,2] e:f32[256,1]. let\n",
            "    f:f32[256,2] = div a c\n",
            "    g:f32[256,1] = neg b\n",
            "    h:f32[256,2] = mul g d\n",
            "    i:f32[256,2] = mul h e\n",
            "    j:f32[256,2] = add_any f i\n",
            "  in (j,) }, 'in_shardings': (UnspecifiedValue, UnspecifiedValue, UnspecifiedValue, UnspecifiedValue, UnspecifiedValue), 'out_shardings': (UnspecifiedValue,), 'in_layouts': (None, None, None, None, None), 'out_layouts': (None,), 'resource_env': None, 'donated_invars': (False, False, False, False, False), 'name': 'true_divide', 'keep_unused': False, 'inline': True}, effects=set(), source_info=<jax._src.source_info_util.SourceInfo object at 0x7fe57dfd2bc0>, ctx=JaxprEqnContext(compute_type=None,threefry_partitionable=False),xla_metadata={})\n",
            "  batch_dim = 0\n",
            "action_prob: Traced<ShapedArray(float32[])>with<BatchTrace(level=4/0)> with\n",
            "  val = Traced<ShapedArray(float32[256])>with<JVPTrace(level=3/0)> with\n",
            "    primal = Traced<ShapedArray(float32[256])>with<DynamicJaxprTrace(level=1/0)>\n",
            "    tangent = Traced<ShapedArray(float32[256])>with<JaxprTrace(level=2/0)> with\n",
            "      pval = (ShapedArray(float32[256]), None)\n",
            "      recipe = JaxprEqnRecipe(eqn_id=<object object at 0x7fe57df11380>, in_tracers=(Traced<ShapedArray(float32[256,1]):JaxprTrace(level=2/0)>,), out_tracer_refs=[<weakref at 0x7fe57df65940; to 'JaxprTracer' at 0x7fe57df65ad0>], out_avals=[ShapedArray(float32[256])], primitive=squeeze, params={'dimensions': (1,)}, effects=frozenset(), source_info=<jax._src.source_info_util.SourceInfo object at 0x7fe57dfe8520>, ctx=JaxprEqnContext(compute_type=None,threefry_partitionable=False),xla_metadata={})\n",
            "  batch_dim = 0\n",
            "weighted_log_prob: Traced<ShapedArray(float32[])>with<BatchTrace(level=4/0)> with\n",
            "  val = Traced<ShapedArray(float32[256])>with<JVPTrace(level=3/0)> with\n",
            "    primal = Traced<ShapedArray(float32[256])>with<DynamicJaxprTrace(level=1/0)>\n",
            "    tangent = Traced<ShapedArray(float32[256])>with<JaxprTrace(level=2/0)> with\n",
            "      pval = (ShapedArray(float32[256]), None)\n",
            "      recipe = JaxprEqnRecipe(eqn_id=<object object at 0x7fe57df11750>, in_tracers=(Traced<ShapedArray(float32[256]):JaxprTrace(level=2/0)>, Traced<ShapedArray(float32[256]):JaxprTrace(level=2/0)>), out_tracer_refs=[<weakref at 0x7fe57df67740; to 'JaxprTracer' at 0x7fe57df67b00>], out_avals=[ShapedArray(float32[256])], primitive=pjit, params={'jaxpr': { lambda ; a:f32[256] b:f32[256]. let c:f32[256] = mul a b in (c,) }, 'in_shardings': (UnspecifiedValue, UnspecifiedValue), 'out_shardings': (UnspecifiedValue,), 'in_layouts': (None, None), 'out_layouts': (None,), 'resource_env': None, 'donated_invars': (False, False), 'name': '_multiply', 'keep_unused': False, 'inline': True}, effects=set(), source_info=<jax._src.source_info_util.SourceInfo object at 0x7fe57dfea230>, ctx=JaxprEqnContext(compute_type=None,threefry_partitionable=False),xla_metadata={})\n",
            "  batch_dim = 0\n",
            "Episode: 100\tEpisode Return: 52.0\tAverage Episode Return: 38.4\tEvaluator Episode Return: 43.0\n",
            "Episode: 200\tEpisode Return: 59.0\tAverage Episode Return: 130.9\tEvaluator Episode Return: 131.25\n",
            "Episode: 300\tEpisode Return: 148.0\tAverage Episode Return: 161.9\tEvaluator Episode Return: 163.0\n",
            "Episode: 400\tEpisode Return: 196.0\tAverage Episode Return: 191.3\tEvaluator Episode Return: 175.25\n",
            "Episode: 500\tEpisode Return: 200.0\tAverage Episode Return: 176.1\tEvaluator Episode Return: 200.0\n",
            "Episode: 600\tEpisode Return: 200.0\tAverage Episode Return: 197.65\tEvaluator Episode Return: 200.0\n",
            "Episode: 700\tEpisode Return: 200.0\tAverage Episode Return: 199.65\tEvaluator Episode Return: 183.25\n",
            "Episode: 800\tEpisode Return: 200.0\tAverage Episode Return: 198.85\tEvaluator Episode Return: 200.0\n",
            "Episode: 900\tEpisode Return: 200.0\tAverage Episode Return: 200.0\tEvaluator Episode Return: 200.0\n",
            "Episode: 1000\tEpisode Return: 200.0\tAverage Episode Return: 200.0\tEvaluator Episode Return: 186.25\n"
          ]
        },
        {
          "output_type": "display_data",
          "data": {
            "text/plain": [
              "<Figure size 640x480 with 1 Axes>"
            ],
            "image/png": "[encoded data removed]"
          },
          "metadata": {}
        }
      ],
      "source": [
        "# JIT the choose_action and learn functions for more speed\n",
        "REINFORCE_learn_jit = jax.jit(REINFORCE_learn)\n",
        "REINFORCE_choose_action_jit = jax.jit(REINFORCE_choose_action)\n",
        "\n",
        "# Initial learn state\n",
        "REINFORCE_learn_state = REINFORCELearnState(REINFORCE_optim_state)\n",
        "\n",
        "# Run training loop\n",
        "print(\"Starting training. This may take up to 10 minutes to complete.\")\n",
        "episode_returns, evaluator_returns = run_training_loop(\n",
        "                                        env_name,\n",
        "                                        REINFORCE_params,\n",
        "                                        REINFORCE_choose_action_jit,\n",
        "                                        None, # action state not used\n",
        "                                        REINFORCE_learn_jit,\n",
        "                                        REINFORCE_learn_state,\n",
        "                                        REINFORCE_memory,\n",
        "                                        num_episodes=1001,\n",
        "                                        learn_steps_per_episode=2,\n",
        "                                        video_subdir=\"reinforce\"\n",
        "                                      )\n",
        "\n",
        "# Plot the episode returns\n",
        "plt.plot(episode_returns)\n",
        "plt.xlabel(\"Episode\")\n",
        "plt.ylabel(\"Episode Return\")\n",
        "plt.title(\"REINFORCE\")\n",
        "plt.show()\n"
      ]
    },
    {
      "cell_type": "code",
      "execution_count": 39,
      "metadata": {
        "id": "caKL3ngNr_Yh",
        "colab": {
          "base_uri": "https://localhost:8080/",
          "height": 288
        },
        "outputId": "90e8fb5f-fa7a-49b5-b2ba-f2686fcbd49c"
      },
      "outputs": [
        {
          "output_type": "execute_result",
          "data": {
            "text/plain": [
              "<IPython.core.display.HTML object>"
            ],
            "text/html": [
              "\n",
              "<video width=400 controls>\n",
              "      <source src=\"data:video/mp4;base64,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\" type=\"video/mp4\">\n",
              "</video>\n"
            ]
          },
          "metadata": {},
          "execution_count": 39
        }
      ],
      "source": [
        "#@title Визуализация {display-mode: \"form\"}\n",
        "#@markdown Выберите номер эпизода, менее или равного 1000, и **run this cell**.\n",
        "\n",
        "episode_number = 1000 #@param {type:\"number\"}\n",
        "\n",
        "assert (episode_number % 100) == 0, \"Episode number must be a multiple of 100 since we only record every 100th episode.\"\n",
        "assert episode_number < 1001, \"Episode number must be less than or equal to 1000\"\n",
        "\n",
        "eval_episode_number = int(episode_number / 100 * 8)\n",
        "video_path = f\"./video/reinforce/eval/rl-video-episode-{eval_episode_number}.mp4\"\n",
        "\n",
        "mp4 = open(video_path,'rb').read()\n",
        "data_url = \"data:video/mp4;base64,\" + b64encode(mp4).decode()\n",
        "HTML(\"\"\"\n",
        "<video width=400 controls>\n",
        "      <source src=\"%s\" type=\"video/mp4\">\n",
        "</video>\n",
        "\"\"\" % data_url)"
      ]
    },
    {
      "cell_type": "markdown",
      "metadata": {
        "id": "D_HHzFTOc-Qr"
      },
      "source": [
        "## 4. Q-Learning\n",
        "Другим распространенным подходом к поиску оптимальной политики в среде с использованием RL является Q-обучение."
      ]
    },
    {
      "cell_type": "markdown",
      "metadata": {
        "id": "lF1nOZrUSzhE"
      },
      "source": [
        "### Функция значения состояния-действия\n",
        "В Q-обучении агент изучает функцию, которая аппроксимирует **значение** пар состояние-действие. Под *значением* мы подразумеваем отдачу, которую вы ожидаете получить, если начнете в определенном состоянии $s_t$, выполните определенное действие $a_t$, а затем будете действовать в соответствии с определенной политикой $\\pi$ навсегда. Функция значения состояния-действия политики $\\pi$ задается как\n",
        "\n",
        "$Q_\\pi(s,a)=\\mathrm{E}_{\\tau\\sim\\pi}\\left[R(\\tau) \\mid s_0=s,\\ a_t=a\\right]$.\n",
        "\n",
        "Мы говорим, что функция значения $Q_\\pi(s,a)$ является **оптимальной** функцией значения, если политика $\\pi$ является оптимальной политикой. Обозначим функцию оптимального значения следующим образом:\n",
        "\n",
        "$Q_\\ast(s,a)=\\max \\limits_\\pi \\ \\mathrm{E}_{\\tau\\sim\\pi}\\left[R(\\tau) \\mid s_0=s,\\ a_0=a\\right]$\n",
        "\n",
        "Существует важная связь между оптимальным действием $a_\\ast$ в состоянии $s$ и оптимальной функцией значения состояния-действия $Q_\\ast$. А именно, оптимальное действие $a_\\ast$ в состоянии $s$ равно действию, которое максимизирует оптимальную функцию значения состояния-действия. Эта связь естественным образом индуцирует оптимальную политику:\n",
        "\n",
        "$\\pi_\\ast(s)=\\arg \\max \\limits_a\\ Q_\\ast(s, a)$"
      ]
    },
    {
      "cell_type": "markdown",
      "metadata": {
        "id": "H2x2tqvZSihz"
      },
      "source": [
        "### Greedy action selection (Жадный выбор действия)\n",
        "\n",
        "**Упражнение 10:** Давайте реализуем функцию, которая, учитывая вектор Q-значений, возвращает действие с наибольшим Q-значением (т. е. жадное действие).\n",
        "\n",
        "**Useful methods:**\n",
        "*   `jax.numpy.argmax` ([docs](https://jax.readthedocs.io/en/latest/_autosummary/jax.numpy.argmax.html))"
      ]
    },
    {
      "cell_type": "code",
      "execution_count": 40,
      "metadata": {
        "id": "Nn9P1YdzTIDU"
      },
      "outputs": [],
      "source": [
        "# Implement a function takes q-values as input and returns the greedy_action\n",
        "def select_greedy_action(q_values):\n",
        "\n",
        "  # YOUR CODE\n",
        "  action = jnp.argmax(q_values)\n",
        "  # END YOUR CODE\n",
        "\n",
        "  return action"
      ]
    },
    {
      "cell_type": "code",
      "execution_count": 41,
      "metadata": {
        "id": "ZBzLr_G7QKXR",
        "colab": {
          "base_uri": "https://localhost:8080/"
        },
        "outputId": "6557f62c-3c58-410e-9b30-32e6407ee7d6"
      },
      "outputs": [
        {
          "output_type": "stream",
          "name": "stdout",
          "text": [
            "Looks good.\n"
          ]
        }
      ],
      "source": [
        "# @title Проверка упр 10 (run me) {display-mode: \"form\"}\n",
        "\n",
        "try:\n",
        "  q_values = jnp.array([1,1,3,4])\n",
        "  action = select_greedy_action(q_values)\n",
        "\n",
        "  if action != 3:\n",
        "    print(\"Incorrect answer, your greedy action selector looks wrong\")\n",
        "  else:\n",
        "    print(\"Looks good.\")\n",
        "except Exception as e:\n",
        "  print(\"An Error Occured: {}\".format(e))\n"
      ]
    },
    {
      "cell_type": "markdown",
      "metadata": {
        "id": "PFQUlqZ4ZyLp"
      },
      "source": [
        "### Q-Network\n",
        "В отличие от подхода с градиентом политики из предыдущего раздела, в Q-обучении и других методах RL на основе значений нам не нужна параметризация для политики, вместо этого мы параметризуем Q-функцию с помощью нейронной сети $Q_\\theta$. Мы получаем политику из Q-сети, всегда выбирая действие с *наибольшим* значением:\n",
        "\n",
        "$\\hat{\\pi}_\\theta(s)=\\arg \\max \\limits_a\\ Q_{\\theta}(s, a)$\n",
        "\n",
        "Как и ранее, мы будем использовать хайку для создания нейронной сети для аппроксимации этой Q-функции. Сеть будет принимать наблюдение в качестве входных данных, а затем выводить Q-значение для каждого из доступных действий. Таким образом, в случае CartPole выход сети будет иметь размер $2$."
      ]
    },
    {
      "cell_type": "code",
      "execution_count": 42,
      "metadata": {
        "id": "9wU1soJYZyLp"
      },
      "outputs": [],
      "source": [
        "def build_network(num_actions: int, layers=[20, 20]) -> hk.Transformed:\n",
        "  \"\"\"Factory for a simple MLP network for approximating Q-values.\"\"\"\n",
        "\n",
        "  def q_network(obs):\n",
        "    network = hk.Sequential(\n",
        "        [hk.Flatten(),\n",
        "         hk.nets.MLP(layers + [num_actions])])\n",
        "    return network(obs)\n",
        "\n",
        "  return hk.without_apply_rng(hk.transform(q_network))"
      ]
    },
    {
      "cell_type": "markdown",
      "metadata": {
        "id": "sUwG-4qTS1zx"
      },
      "source": [
        "Давайте инициализируем нашу Q-сеть и получим начальные параметры."
      ]
    },
    {
      "cell_type": "code",
      "execution_count": 43,
      "metadata": {
        "id": "1uvq5n2cS9lu",
        "colab": {
          "base_uri": "https://localhost:8080/"
        },
        "outputId": "77d2a995-722b-4d26-8376-531143c41b9b"
      },
      "outputs": [
        {
          "output_type": "stream",
          "name": "stdout",
          "text": [
            "Q-Learning params: dict_keys(['mlp/~/linear_0', 'mlp/~/linear_1', 'mlp/~/linear_2'])\n"
          ]
        }
      ],
      "source": [
        "# Initialise Q-network\n",
        "Q_NETWORK = build_network(num_actions=num_actions, layers=[20, 20]) # two actions\n",
        "\n",
        "dummy_obs = jnp.zeros((1,*obs_shape), jnp.float32) # a dummy observation like the one in CartPole\n",
        "\n",
        "random_key = jax.random.PRNGKey(42) # random key\n",
        "Q_NETWORK_PARAMS = Q_NETWORK.init(random_key, dummy_obs) # Get initial params\n",
        "\n",
        "print(\"Q-Learning params:\", Q_NETWORK_PARAMS.keys())"
      ]
    },
    {
      "cell_type": "markdown",
      "metadata": {
        "id": "iqCUeZfhEfyP"
      },
      "source": [
        "Прежде чем мы реализуем функцию потерь, необходимую для обучения нашей Q-сети, давайте сначала обсудим интуицию, стоящую за ней."
      ]
    },
    {
      "cell_type": "markdown",
      "metadata": {
        "id": "vbLig3uSZyLp"
      },
      "source": [
        "### The Bellman Equations (Уравнения Беллмана)\n",
        "Функция значения может быть записана рекурсивно как:\n",
        "\n",
        "$Q_{\\pi}(s, a) =\\underset{s^{\\prime} \\sim P}{\\mathrm{E}}\\left[r(s, a)+ \\underset{a^{\\prime} \\sim \\pi}{\\mathrm{E}}\\left[Q_{\\pi}\\left(s^{\\prime}, a^{\\prime}\\right)\\right]\\right]$,\n",
        "\n",
        "где $s' \\sim P$ — это сокращение для обозначения того, что следующее состояние $s'$ выбирается из функции перехода среды $P(s'\\mid s,a)$. Интуитивно это уравнение говорит, что ценность действия $a$, которое вы предприняли в состоянии $s$, равна вознаграждению $r$, которое вы ожидаете получить, плюс ценность, которую вы ожидаете получить в следующем состоянии $s`$, в котором вы окажетесь, при условии, что вы выберете свое следующее действие $a`$ с политикой $\\pi$. Уравнение Беллмана для оптимальной функции ценности выглядит так:\n",
        "\n",
        "$Q_{*}(s, a) =\\underset{s^{\\prime} \\sim P}{\\mathrm{E}}\\left[r(s, a)+\\ \\underset{a^{\\prime}}{\\max}\\ Q_{*}(s^{\\prime}, a^{\\prime})\\right]$\n",
        "\n",
        "Обратите внимание, что вместо выбора вашего следующего действия $a`$ с политикой $\\pi$ мы выбираем действие с наибольшим значением Q.\n",
        "\n",
        "Более подробное обсуждение уравнений Беллмана можно найти на сайте [OpenAI Spinning Up](https://spinningup.openai.com/en/latest/spinningup/rl_intro.html)."
      ]
    },
    {
      "cell_type": "markdown",
      "metadata": {
        "id": "DsOJi5G8ZyLp"
      },
      "source": [
        "### The Bellman Backup (Резервное копирование Беллмана)\n",
        "\n",
        "Чтобы научиться аппроксимировать оптимальную функцию Q-значения, мы можем использовать правую часть уравнения Беллмана в качестве правила обновления. Другими словами, предположим, что у нас есть Q-сеть $Q_\\theta$, аппроксимированная с использованием параметров $\\theta$, тогда мы можем итеративно обновлять параметры таким образом, что\n",
        "\n",
        "$Q_\\theta(s,a)\\leftarrow r(s, a) + \\underset{a'}{\\max}\\ Q_\\theta(s', a')$.\n",
        "\n",
        "Интуитивно это означает, что аппроксимация Q-значения действия $a$ в состоянии $s$ должна быть обновлена ​​таким образом, чтобы она была ближе к равной вознаграждению, полученному от среды $r(s, a)$, плюс значение наилучшего возможного действия в следующем состоянии $s'$. Мы можем выполнить эту оптимизацию, минимизируя разницу между левой и правой частью относительно параметров $\\theta$, используя градиентный спуск. Мы можем измерить разницу между двумя значениями, используя [квадратичную ошибку](https://en.wikipedia.org/wiki/Mean_squared_error#Loss_function).\n",
        "\n",
        "**Упражнение 11:** Реализуйте функцию квадратичной ошибки.\n",
        "\n",
        "**Полезные функции**\n",
        "* `jax.numpy.square` ([docs](https://jax.readthedocs.io/en/latest/_autosummary/jax.numpy.square.html))"
      ]
    },
    {
      "cell_type": "code",
      "execution_count": 44,
      "metadata": {
        "id": "PTto__ohZyLp"
      },
      "outputs": [],
      "source": [
        "def compute_squared_error(pred, target):\n",
        "  # YOUR CODE\n",
        "  squared_error = jnp.square(pred - target)\n",
        "  # END YOUR CODE\n",
        "\n",
        "  return squared_error"
      ]
    },
    {
      "cell_type": "code",
      "execution_count": 45,
      "metadata": {
        "id": "wGhX8XTFVPVU",
        "colab": {
          "base_uri": "https://localhost:8080/"
        },
        "outputId": "fa11848b-21de-4db1-f711-6c2733ffd716"
      },
      "outputs": [
        {
          "output_type": "stream",
          "name": "stdout",
          "text": [
            "Looks good.\n"
          ]
        }
      ],
      "source": [
        "#@title Проверка упр 11 {display-mode: \"form\"}\n",
        "\n",
        "try:\n",
        "  result = compute_squared_error(1, 4)\n",
        "\n",
        "  if result != 9:\n",
        "    print(\"Your implementation looks wrong.\")\n",
        "  else:\n",
        "    print(\"Looks good.\")\n",
        "except Exception as e:\n",
        "  print(\"An Error Occured: {}\".format(e))"
      ]
    },
    {
      "cell_type": "markdown",
      "metadata": {
        "id": "ycpZVkgdZyLp"
      },
      "source": [
        "**Упражнение 12:** Реализуйте функцию, которая вычисляет **цель Беллмана** (правая часть уравнения Беллмана). Если эпизод находится на последнем временном шаге (т. е. done==1.0), то цель Беллмана должна быть равна награде, без дополнительного значения в конце.\n",
        "\n",
        "**Полезные функции**\n",
        "* `jax.numpy.max` ([docs](https://jax.readthedocs.io/en/latest/_autosummary/jax.numpy.max.html))"
      ]
    },
    {
      "cell_type": "code",
      "execution_count": 46,
      "metadata": {
        "id": "961_OllWZyLp"
      },
      "outputs": [],
      "source": [
        "# Bellman target\n",
        "def compute_bellman_target(reward, done, next_q_values):\n",
        "  \"\"\"A function to compute the bellman target.\n",
        "\n",
        "  Args:\n",
        "      reward: a scalar reward.\n",
        "      done: a scalar of value either 1.0 or 0.0, indicating if the transition is a terminal one.\n",
        "      next_q_values: a vector of q_values for the next state. One for each action.\n",
        "  Returns:\n",
        "      A scalar equal to the bellman target.\n",
        "\n",
        "  \"\"\"\n",
        "  # YOUR CODE\n",
        "  bellman_target = reward +  jnp.max(next_q_values) * (1.0 - done)\n",
        "  # END YOUR CODE\n",
        "\n",
        "  return bellman_target"
      ]
    },
    {
      "cell_type": "code",
      "execution_count": 47,
      "metadata": {
        "id": "E5RAhegOWAkC",
        "colab": {
          "base_uri": "https://localhost:8080/"
        },
        "outputId": "16acc621-16bd-4f9f-8043-12cb0c7d83a1"
      },
      "outputs": [
        {
          "output_type": "stream",
          "name": "stdout",
          "text": [
            "Looks good.\n"
          ]
        }
      ],
      "source": [
        "#@title Проверка упр 12 {display-mode: \"form\"}\n",
        "\n",
        "try:\n",
        "  # not done\n",
        "  result1 = compute_bellman_target(1, 0.0, np.array([3,2], \"float32\"))\n",
        "\n",
        "  # done\n",
        "  result2 = compute_bellman_target(1, 1.0, np.array([3,2], \"float32\"))\n",
        "\n",
        "  if result1 != 4 or result2 != 1:\n",
        "    print(\"Your implementation looks wrong.\")\n",
        "  else:\n",
        "    print(\"Looks good.\")\n",
        "except Exception as e:\n",
        "  print(\"An Error Occured: {}\".format(e))"
      ]
    },
    {
      "cell_type": "markdown",
      "metadata": {
        "id": "8sIjrHSJZyLq"
      },
      "source": [
        "Теперь мы можем объединить эти две функции, чтобы вычислить потерю для Q-обучения. Потери Q-обучения равны квадрату разницы между прогнозируемым значением Q действия и его соответствующей целью Беллмана.\n",
        "\n",
        "**Упражнение 13:** Реализуйте функцию потери Q-обучения."
      ]
    },
    {
      "cell_type": "code",
      "execution_count": 48,
      "metadata": {
        "id": "LJY_kpFcZyLq"
      },
      "outputs": [],
      "source": [
        "def q_learning_loss(q_values, action, reward, done, next_q_values):\n",
        "    \"\"\"Implementation of the Q-learning loss.T\n",
        "\n",
        "    Args:\n",
        "        q_values: a vector of Q-values, one for each action.\n",
        "        action: an integer, giving the action that was chosen. q_values[action] is the value of the chose action.\n",
        "        done: is a scalar that indicates if this is a terminal transition.\n",
        "        next_q_values: a vector of Q-values in the next state.\n",
        "    Returns:\n",
        "        The squared difference between the q_value of the chosen action and the bellman target.\n",
        "    \"\"\"\n",
        "    # YOUR CODE\n",
        "    chosen_action_q_value =  q_values[action] # q_value of action, use array indexing\n",
        "    bellman_target = compute_bellman_target(reward, done, next_q_values)\n",
        "    squared_error = compute_squared_error(chosen_action_q_value, bellman_target)\n",
        "    # END YOUR CODE\n",
        "\n",
        "    return squared_error"
      ]
    },
    {
      "cell_type": "code",
      "execution_count": 49,
      "metadata": {
        "id": "1aZRn1qaWx2M",
        "colab": {
          "base_uri": "https://localhost:8080/"
        },
        "outputId": "ed65ae50-cfde-4c90-87c6-338f306c52e0"
      },
      "outputs": [
        {
          "output_type": "stream",
          "name": "stdout",
          "text": [
            "Looks good.\n"
          ]
        }
      ],
      "source": [
        "#@title Проверка упр 13 {display-mode: \"form\"}\n",
        "\n",
        "try:\n",
        "  result = q_learning_loss(np.array([3,2], \"float32\"), 1, 2, 0.0, np.array([3,2], \"float32\"))\n",
        "\n",
        "  if result != 9.0:\n",
        "    print(\"Your implementation looks wrong.\")\n",
        "  else:\n",
        "    print(\"Looks good.\")\n",
        "except Exception as e:\n",
        "  print(\"An Error Occured: {}\".format(e))"
      ]
    },
    {
      "cell_type": "markdown",
      "metadata": {
        "id": "b4YnSUfJZyLq"
      },
      "source": [
        "### Target Q-network (Целевая Q-сеть)\n",
        "Обратите внимание: когда мы вычисляем цель Беллмана, мы используем нашу Q-сеть $Q_\\theta$ для вычисления значения для следующего состояния $s_t$. По сути, мы используем наше последнее приближение Q-функции для вычисления цели нашего следующего приближения. Использование приближения для вычисления цели для вашего следующего приближения называется самозагрузкой. К сожалению, если мы наивно делаем такую ​​самозагрузку, это может сделать обучение нейронной сети очень нестабильным. Чтобы смягчить это, мы можем вместо этого использовать другой набор параметров $\\hat{\\theta}$ для вычисления значений в состоянии $s_{t+1}$. Мы будем сохранять параметры $\\hat{\\theta}$ фиксированными и только периодически обновлять их, чтобы они были равны последним онлайн-параметрам $\\theta$ каждые пару шагов обучения *(скажем, 100)*. Это позволяет сохранять фиксированные цели Беллмана для пары шагов обучения, чтобы помочь снизить нестабильность из-за самозагрузки.\n",
        "\n",
        "Нам нужно будет отслеживать последние (онлайн) параметры, а также параметры целевых сетей. Давайте создадим `NamedTuple` для хранения этих двух значений. Нам также нужно будет отслеживать количество шагов обучения, которые мы сделали, чтобы знать, когда обновлять целевую сеть. Давайте сохраним `count` шагов обучения в `learn_state`."
      ]
    },
    {
      "cell_type": "code",
      "execution_count": 50,
      "metadata": {
        "id": "DvZqUKmq6L7k"
      },
      "outputs": [],
      "source": [
        "# Store online and target parameters\n",
        "QLearnParams = collections.namedtuple(\"Params\", [\"online\", \"target\"])\n",
        "\n",
        "# Q-learn-state\n",
        "QLearnState = collections.namedtuple(\"LearnerState\", [\"count\", \"optim_state\"])"
      ]
    },
    {
      "cell_type": "markdown",
      "metadata": {
        "id": "CJWH2_kNZsau"
      },
      "source": [
        "Мы снова будем использовать Optax для оптимизации нашей нейронной сети в JAX. Мы сохраняем состояние оптимизатора в `learn_state` выше. Давайте теперь создадим экземпляр оптимизатора и добавим начальные параметры Q-сети в объект `QLearnParams`."
      ]
    },
    {
      "cell_type": "code",
      "execution_count": 51,
      "metadata": {
        "id": "HwqKTN6BaAXE"
      },
      "outputs": [],
      "source": [
        "# Initialise Q-network optimizer\n",
        "Q_LEARN_OPTIMIZER = optax.adam(3e-4) # learning rate\n",
        "\n",
        "Q_LEARN_OPTIM_STATE = Q_LEARN_OPTIMIZER.init(Q_NETWORK_PARAMS) # initial optim state\n",
        "\n",
        "# Create Learn State\n",
        "Q_LEARNING_LEARN_STATE = QLearnState(0, Q_LEARN_OPTIM_STATE) # count set to zero initially\n",
        "\n",
        "# Add initial Q-network weights to QLearnParams object\n",
        "Q_LEARNING_PARAMS = QLearnParams(online=Q_NETWORK_PARAMS, target=Q_NETWORK_PARAMS) # target equal to online"
      ]
    },
    {
      "cell_type": "markdown",
      "metadata": {
        "id": "xj89M8LgZlFe"
      },
      "source": [
        "Теперь мы можем реализовать простую функцию, которая обновляет параметры целевых сетей, чтобы они соответствовали последним онлайн-параметрам каждые 100 шагов обучения."
      ]
    },
    {
      "cell_type": "code",
      "execution_count": 52,
      "metadata": {
        "id": "SKrg_3rO6cCL"
      },
      "outputs": [],
      "source": [
        "def update_target_params(learn_state, online_weights, target_weights):\n",
        "  \"\"\"A function to update target params every 100 training steps\"\"\"\n",
        "\n",
        "  target = jax.lax.cond(\n",
        "      jax.numpy.mod(learn_state.count, 100) == 0,\n",
        "      lambda x, y: x,\n",
        "      lambda x, y: y,\n",
        "      online_weights,\n",
        "      target_weights\n",
        "  )\n",
        "\n",
        "  params = QLearnParams(online_weights, target)\n",
        "\n",
        "  return params"
      ]
    },
    {
      "cell_type": "markdown",
      "metadata": {
        "id": "KoiaYSo9ZyLq"
      },
      "source": [
        "### Q-learning loss (Функция потери Q-обучения)\n",
        "Теперь у нас есть все необходимое для реализации функции `q_learn`, которая принимает некоторую партию переходов и выполняет шаг Q-обучения для обновления параметров сети. Но сначала мы используем `jax.vmap` для изменения функции `q_learning_loss` так, чтобы она принимала партии переходов. Кроме того, мы вычислим Q-значения, передавая наблюдения через `Q_NETWORK`, и целевые Q-значения, используя целевые параметры `Q_NETWORK`."
      ]
    },
    {
      "cell_type": "code",
      "execution_count": 53,
      "metadata": {
        "id": "hnrsGppWZyLq"
      },
      "outputs": [],
      "source": [
        "def batched_q_learning_loss(online_params, target_params, obs, actions, rewards, next_obs, dones):\n",
        "    q_values = Q_NETWORK.apply(online_params, obs) # use the online parameters\n",
        "    next_q_values = Q_NETWORK.apply(target_params, next_obs) # use the target parameters\n",
        "    squared_error = jax.vmap(q_learning_loss)(q_values, actions, rewards, dones, next_q_values) # vmap q_learning_loss\n",
        "    mean_squared_error = jnp.mean(squared_error) # mean squared error over batch\n",
        "    return mean_squared_error"
      ]
    },
    {
      "cell_type": "markdown",
      "metadata": {
        "id": "CU8vo9ZebnEa"
      },
      "source": [
        "Теперь мы можем создать функцию `q_learn`, которая вычисляет градиент `batched_q_learning_loss`, а затем использует оптимизатор Optax для обновления весов сети, а затем, наконец (возможно), обновляет целевые параметры."
      ]
    },
    {
      "cell_type": "code",
      "execution_count": 54,
      "metadata": {
        "id": "6BYoX2W_ZyLr"
      },
      "outputs": [],
      "source": [
        "def q_learn(rng, params, learner_state, memory):\n",
        "  # Compute gradients\n",
        "  grad_loss = jax.grad(batched_q_learning_loss)(params.online, params.target, memory.obs,\n",
        "                                          memory.action, memory.reward,\n",
        "                                          memory.next_obs, memory.done,\n",
        "                                          ) # jax.grad\n",
        "\n",
        "  # Get updates\n",
        "  updates, opt_state = Q_LEARN_OPTIMIZER.update(grad_loss, learner_state.optim_state)\n",
        "\n",
        "  # Apply them\n",
        "  new_weights = optax.apply_updates(params.online, updates)\n",
        "\n",
        "  # Maybe update target network\n",
        "  params = update_target_params(learner_state, new_weights, params.target)\n",
        "\n",
        "  # Increment learner step counter\n",
        "  learner_state = QLearnState(learner_state.count + 1, opt_state)\n",
        "\n",
        "  return params, learner_state"
      ]
    },
    {
      "cell_type": "markdown",
      "metadata": {
        "id": "VpZsKHssZyLq"
      },
      "source": [
        "### Replay Buffer (Буфер воспроизведения)\n",
        "Для Q-обучения нам понадобится память агента, которая хранит целые переходы: `obs`, `action`, `reward`, `next_obs`, `done`. Когда мы извлекаем переходы из памяти, они должны выбираться случайным образом из всех переходов, собранных до сих пор. В RL мы часто называем такой модуль **буфером воспроизведения**.\n",
        "\n",
        "Одним из преимуществ использования такого буфера воспроизведения является то, что опыт можно повторно использовать несколько раз для обучения, в отличие от алгоритма градиента политики REINFORCE, где мы отбрасывали воспоминания после их использования для обучения."
      ]
    },
    {
      "cell_type": "code",
      "execution_count": 55,
      "metadata": {
        "id": "8tv5dUH6ZyLr"
      },
      "outputs": [],
      "source": [
        "class TransitionMemory(object):\n",
        "  \"\"\"A simple Python replay buffer.\"\"\"\n",
        "\n",
        "  def __init__(self, max_size=10_000, batch_size=256):\n",
        "    self.batch_size = batch_size\n",
        "    self.buffer = collections.deque(maxlen=max_size)\n",
        "\n",
        "  def push(self, transition):\n",
        "\n",
        "    # add transition to the replay buffer\n",
        "    self.buffer.append(\n",
        "        (transition.obs, transition.action, transition.reward,\n",
        "          transition.next_obs, transition.done)\n",
        "    )\n",
        "\n",
        "\n",
        "  def is_ready(self):\n",
        "    return self.batch_size <= len(self.buffer)\n",
        "\n",
        "  def sample(self):\n",
        "    # Randomly sample a batch of transitions from the buffer\n",
        "    random_replay_sample = random.sample(self.buffer, self.batch_size)\n",
        "\n",
        "    # Batch the transitions together\n",
        "    obs_batch, action_batch, reward_batch, next_obs_batch, done_batch = zip(*random_replay_sample)\n",
        "\n",
        "    return Transition(\n",
        "        np.stack(obs_batch).astype(\"float32\"),\n",
        "        np.asarray(action_batch).astype(\"int32\"),\n",
        "        np.asarray(reward_batch).astype(\"float32\"),\n",
        "        np.stack(next_obs_batch).astype(\"float32\"),\n",
        "        np.asarray(done_batch).astype(\"float32\")\n",
        "    )\n",
        "\n",
        "# Instantiate the memory\n",
        "Q_LEARNING_MEMORY = TransitionMemory(max_size=50_000, batch_size=256)"
      ]
    },
    {
      "cell_type": "markdown",
      "metadata": {
        "id": "XbHk03VVUHAV"
      },
      "source": [
        "### Случайное исследование\n",
        "У нас почти есть все, что нужно для функционирующего агента Q-обучения. Но одна проблема заключается в том, что если мы всегда выбираем действие с наивысшим значением Q, то политика агента будет полностью [детерминированной](https://www.quora.com/What-is-the-intuitive-difference-between-a-stochastic-model-and-a-deterministic-model). Это означает, что агент всегда будет выбирать одну и ту же стратегию. Это может представлять проблему, поскольку в начале обучения Q-сеть будет очень неточной (т. е. плохой аппроксимацией истинной Q-функции). Таким образом, агент будет последовательно выбирать неоптимальные действия. Более того, агент никогда не отклонится от своей неоптимальной стратегии и никогда не обнаружит новые, потенциально более полезные действия. В результате Q-сеть остается неточной. В идеале агент должен опробовать много разных стратегий, чтобы он мог наблюдать результаты (вознаграждения) своих действий в разных состояниях и таким образом улучшить приближение Q-функции.\n",
        "\n",
        "Один простой способ гарантировать, что агент опробует много разных действий, — позволить ему периодически выбирать некоторые случайные действия вместо жадного (лучшего) действия все время.\n",
        "\n",
        "**Упражнение 14:** Реализуйте функцию, которая, учитывая количество возможных (дискретных) действий, возвращает случайное действие.\n",
        "\n",
        "**Полезные методы:**\n",
        "\n",
        "*  `jax.random.randint` ([docs](https://jax.readthedocs.io/en/latest/_autosummary/jax.random.randint.html))"
      ]
    },
    {
      "cell_type": "code",
      "execution_count": 56,
      "metadata": {
        "id": "uUKkpMLXUtko"
      },
      "outputs": [],
      "source": [
        "def select_random_action(key, num_actions):\n",
        "\n",
        "    # YOUR CODE\n",
        "    action = jax.random.randint(key, minval=0, maxval=num_actions, shape=())\n",
        "    # END YOUR CODE\n",
        "\n",
        "    return action"
      ]
    },
    {
      "cell_type": "code",
      "execution_count": 57,
      "metadata": {
        "id": "NO6va6S2Y40E",
        "colab": {
          "base_uri": "https://localhost:8080/"
        },
        "outputId": "c089494b-ff76-435a-d1f8-0df4b62ca5d2"
      },
      "outputs": [
        {
          "output_type": "stream",
          "name": "stdout",
          "text": [
            "Looks good.\n"
          ]
        }
      ],
      "source": [
        "#@title Проверка упр 14 {display-mode: \"form\"}\n",
        "\n",
        "try:\n",
        "  random_key1 = random_key = jax.random.PRNGKey(6) # random key\n",
        "  random_key2 = random_key = jax.random.PRNGKey(1000) # random key\n",
        "  result1 = select_random_action(random_key1, 2)\n",
        "  result2 = select_random_action(random_key2, 2)\n",
        "\n",
        "  if result1 != 1 or result2 != 0:\n",
        "    print(\"Your implementation looks wrong.\")\n",
        "  else:\n",
        "    print(\"Looks good.\")\n",
        "except:\n",
        "  print(\"Your implementation looks wrong.\")"
      ]
    },
    {
      "cell_type": "markdown",
      "metadata": {
        "id": "8-kKDFT6XU6y"
      },
      "source": [
        "### $\\varepsilon$-greedy action selection (эпсилон жадный выбор действия)\n",
        "В начале обучения, когда точность Q-сети низкая, агенту стоит в основном совершать случайные действия, чтобы он мог узнать, насколько хороши/плохи действия. Однако по мере повышения точности Q-сети агент должен начать совершать меньше случайных действий и вместо этого начать выбирать жадные действия относительно Q-значений. Выбор лучших действий с учетом текущей Q-сети называется **эксплуатацией**. В RL мы часто называем отношение случайных и жадных действий **эпсилоном** $\\varepsilon$. Эпсилон обычно представляет собой десятичное значение в интервале $[0,1]$, где, например, $\\varepsilon=0.4$ означает, что агент выбирает случайное действие в 40% случаев, а жадное действие — в 60% случаев. В RL принято линейно уменьшать значение эпсилон с течением времени, так что агент становится все более жадным по мере повышения точности его Q-сети в процессе обучения.\n",
        "\n",
        "**Упражнение 15:** Реализуйте функцию, которая принимает количество временных шагов в качестве входных данных и возвращает текущее значение эпсилон."
      ]
    },
    {
      "cell_type": "code",
      "execution_count": 58,
      "metadata": {
        "id": "_qejnbCocurG"
      },
      "outputs": [],
      "source": [
        "EPSILON_DECAY_TIMESTEPS = 3000 # decay epsilon over 3000 timesteps\n",
        "EPSILON_MIN = 0.1 # 10% exploration"
      ]
    },
    {
      "cell_type": "code",
      "execution_count": 59,
      "metadata": {
        "id": "5ujSbssCZyLs"
      },
      "outputs": [],
      "source": [
        "import jax.numpy as jnp\n",
        "import jax.lax\n",
        "def get_epsilon(num_timesteps):\n",
        "  # YOUR CODE\n",
        "  epsilon = 1.0 - (num_timesteps/EPSILON_DECAY_TIMESTEPS) # decay epsilon\n",
        "\n",
        "  epsilon = jax.lax.select(\n",
        "      epsilon < EPSILON_MIN,\n",
        "      EPSILON_MIN, # if less than min then set to min\n",
        "      epsilon # else don't change epsilon\n",
        "  )\n",
        "  # END YOUR CODE\n",
        "\n",
        "  return epsilon"
      ]
    },
    {
      "cell_type": "code",
      "execution_count": 60,
      "metadata": {
        "id": "hvu4zA64aUou",
        "colab": {
          "base_uri": "https://localhost:8080/"
        },
        "outputId": "69107e4d-78a7-4fd1-eb3a-5a40437ba134"
      },
      "outputs": [
        {
          "output_type": "stream",
          "name": "stdout",
          "text": [
            "Your function looks correct.\n"
          ]
        }
      ],
      "source": [
        "#@title Проверка упр 15 {display-mode: \"form\"}\n",
        "def check_get_epsilon(get_epsilon):\n",
        "  try:\n",
        "    result1 = get_epsilon(10)\n",
        "    result2 = get_epsilon(5_010)\n",
        "\n",
        "    if result1 != 0.99666667 or result2 != 0.1:\n",
        "      print(\"Your function looks wrong.\")\n",
        "    else:\n",
        "      print(\"Your function looks correct.\")\n",
        "  except:\n",
        "    print(\"Your function looks wrong.\")\n",
        "\n",
        "check_get_epsilon(get_epsilon)\n"
      ]
    },
    {
      "cell_type": "markdown",
      "metadata": {
        "id": "t56oo58TVQ_s"
      },
      "source": [
        "**Упражнение 16:** Теперь давайте объединим эти функции для выполнения эпсилон-жадного выбора действия."
      ]
    },
    {
      "cell_type": "code",
      "execution_count": 61,
      "metadata": {
        "id": "NlQx8K4vKUXj"
      },
      "outputs": [],
      "source": [
        "def select_epsilon_greedy_action(key, q_values, num_timesteps):\n",
        "    num_actions = len(q_values) # number of available actions\n",
        "\n",
        "    # YOUR CODE HERE\n",
        "    epsilon = get_epsilon(num_timesteps) # get epsilon value\n",
        "\n",
        "    should_explore = jax.random.uniform(key, shape=()) < epsilon # hint: a boolean expression to check if some random number is less than epsilon\n",
        "\n",
        "    explore_action = select_random_action(key, num_actions)\n",
        "    greedy_action = jax.numpy.argmax(q_values)\n",
        "\n",
        "    action = jax.lax.select(\n",
        "        should_explore,\n",
        "        explore_action, # if should explore\n",
        "        greedy_action # if should be greedy\n",
        "    )\n",
        "    # END YOUR CODE\n",
        "\n",
        "    return action"
      ]
    },
    {
      "cell_type": "code",
      "execution_count": 62,
      "metadata": {
        "id": "mkVU2a5e7P6b",
        "colab": {
          "base_uri": "https://localhost:8080/"
        },
        "outputId": "d4824812-2f40-4a12-8573-1f59ec9fd725"
      },
      "outputs": [
        {
          "output_type": "stream",
          "name": "stdout",
          "text": [
            "Looks correct!\n"
          ]
        }
      ],
      "source": [
        "#@title Проверка упражнения 16 {display-mode: \"form\"}\n",
        "\n",
        "try:\n",
        "  rng = hk.PRNGSequence(jax.random.PRNGKey(42))\n",
        "  dummy_q_values = jnp.array([0,1], jnp.float32)\n",
        "  num_timesteps = 5010 # very greedy\n",
        "  actions1 = []\n",
        "  for i in range(10):\n",
        "      actions1.append(int(select_epsilon_greedy_action(next(rng), dummy_q_values, num_timesteps)))\n",
        "\n",
        "  num_timesteps = 0 # completly random\n",
        "  actions2 = []\n",
        "  for i in range(10):\n",
        "      actions2.append(int(select_epsilon_greedy_action(next(rng), dummy_q_values, num_timesteps)))\n",
        "\n",
        "  if actions1 != [1, 1, 0, 1, 1, 0, 1, 1, 1, 1] or actions2 != [0, 0, 0, 1, 1, 1, 1, 0, 0, 0]:\n",
        "    print(\"Looks like something might be incorrect!\")\n",
        "  else:\n",
        "    print(\"Looks correct!\")\n",
        "except:\n",
        "  print(\"Looks like something might be incorrect!\")"
      ]
    },
    {
      "cell_type": "markdown",
      "metadata": {
        "id": "y5W23MnobN9x"
      },
      "source": [
        "### Действие выбора Q-learning\n",
        "\n",
        "Теперь у нас есть все необходимое для создания функции `q_learning_select_action`. Мы будем использовать `actor_state` для хранения счетчика, который отслеживает текущее количество временных шагов. Мы можем использовать счетчик для уменьшения нашего значения `epsilon`."
      ]
    },
    {
      "cell_type": "code",
      "execution_count": 63,
      "metadata": {
        "id": "81TysLc0RjM6"
      },
      "outputs": [],
      "source": [
        "# Actor state stores the current number of timesteps\n",
        "QActorState = collections.namedtuple(\"ActorState\", [\"count\"])\n",
        "\n",
        "def q_learning_select_action(key, params, actor_state, obs, evaluation=False):\n",
        "    obs = jnp.expand_dims(obs, axis=0) # add dummy batch dim\n",
        "    q_values = Q_NETWORK.apply(params.online, obs)[0] # remove batch dim\n",
        "\n",
        "    action = select_epsilon_greedy_action(key, q_values, actor_state.count)\n",
        "    greedy_action = select_greedy_action(q_values)\n",
        "\n",
        "    action = jax.lax.select(\n",
        "        evaluation,\n",
        "        greedy_action,\n",
        "        action\n",
        "    )\n",
        "\n",
        "    next_actor_state = QActorState(actor_state.count + 1) # increment timestep counter\n",
        "\n",
        "    return action, next_actor_state\n",
        "\n",
        "Q_LEARNING_ACTOR_STATE = QActorState(0) # counter set to zero"
      ]
    },
    {
      "cell_type": "markdown",
      "metadata": {
        "id": "z884-1oNRGEr"
      },
      "source": [
        "### Обучение\n",
        "Теперь мы можем собрать все вместе, используя цикл агент-среда. Но сначала давайте объединим функцию выбора действия и функцию обучения для дополнительной скорости."
      ]
    },
    {
      "cell_type": "code",
      "execution_count": 64,
      "metadata": {
        "id": "xbdHDbd1RjM8",
        "colab": {
          "base_uri": "https://localhost:8080/",
          "height": 680
        },
        "outputId": "e4557505-b393-4443-b149-3397661cb142"
      },
      "outputs": [
        {
          "output_type": "stream",
          "name": "stdout",
          "text": [
            "Starting training. This may take up to 8 minutes to complete.\n",
            "Episode: 0\tEpisode Return: 16.0\tAverage Episode Return: 16.0\tEvaluator Episode Return: 8.75\n",
            "Episode: 100\tEpisode Return: 11.0\tAverage Episode Return: 13.05\tEvaluator Episode Return: 9.375\n",
            "Episode: 200\tEpisode Return: 10.0\tAverage Episode Return: 9.4\tEvaluator Episode Return: 9.375\n",
            "Episode: 300\tEpisode Return: 11.0\tAverage Episode Return: 9.7\tEvaluator Episode Return: 9.625\n",
            "Episode: 400\tEpisode Return: 9.0\tAverage Episode Return: 9.8\tEvaluator Episode Return: 9.5\n",
            "Episode: 500\tEpisode Return: 40.0\tAverage Episode Return: 68.05\tEvaluator Episode Return: 54.0\n",
            "Episode: 600\tEpisode Return: 93.0\tAverage Episode Return: 154.05\tEvaluator Episode Return: 188.75\n",
            "Episode: 700\tEpisode Return: 200.0\tAverage Episode Return: 185.9\tEvaluator Episode Return: 200.0\n",
            "Episode: 800\tEpisode Return: 200.0\tAverage Episode Return: 194.15\tEvaluator Episode Return: 200.0\n",
            "Episode: 900\tEpisode Return: 200.0\tAverage Episode Return: 200.0\tEvaluator Episode Return: 200.0\n",
            "Episode: 1000\tEpisode Return: 200.0\tAverage Episode Return: 199.6\tEvaluator Episode Return: 200.0\n"
          ]
        },
        {
          "output_type": "display_data",
          "data": {
            "text/plain": [
              "<Figure size 640x480 with 1 Axes>"
            ],
            "image/png": "[encoded data removed]"
          },
          "metadata": {}
        }
      ],
      "source": [
        "# Jit functions\n",
        "q_learning_select_action_jit = jax.jit(q_learning_select_action)\n",
        "q_learn_jit = jax.jit(q_learn)\n",
        "\n",
        "# Run environment loop\n",
        "print(\"Starting training. This may take up to 8 minutes to complete.\")\n",
        "episode_returns, evaluator_returns = run_training_loop(\n",
        "                                        env_name,\n",
        "                                        Q_LEARNING_PARAMS,\n",
        "                                        q_learning_select_action_jit,\n",
        "                                        Q_LEARNING_ACTOR_STATE,\n",
        "                                        q_learn_jit,\n",
        "                                        Q_LEARNING_LEARN_STATE,\n",
        "                                        Q_LEARNING_MEMORY,\n",
        "                                        num_episodes=1001,\n",
        "                                        train_every_timestep=True, # do learning after every timestep\n",
        "                                        video_subdir=\"q_learning\"\n",
        "                                    )\n",
        "\n",
        "plt.plot(episode_returns)\n",
        "plt.xlabel(\"Episodes\")\n",
        "plt.ylabel(\"Episode Return\")\n",
        "plt.title(\"Deep Q-Learning\")\n",
        "plt.show()"
      ]
    },
    {
      "cell_type": "markdown",
      "metadata": {
        "id": "2k0-41wbpFDE"
      },
      "source": [
        "На этом этапе, как мы надеемся, приближенная Q-функция сошлась к приемлемой политике балансировки шеста в задаче CartPole."
      ]
    },
    {
      "cell_type": "code",
      "execution_count": null,
      "metadata": {
        "id": "t4v0ZbB4FQUs",
        "colab": {
          "base_uri": "https://localhost:8080/"
        },
        "outputId": "65dc251f-e0bf-46bb-ff27-0859774e0c04",
        "cellView": "form"
      },
      "outputs": [
        {
          "output_type": "execute_result",
          "data": {
            "text/plain": [
              "<IPython.core.display.HTML object>"
            ],
            "text/html": [
              "\n",
              "<video width=400 controls>\n",
              "      <source src=\"data:video/mp4;base64,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\" type=\"video/mp4\">\n",
              "</video>\n"
            ]
          },
          "metadata": {},
          "execution_count": 99
        }
      ],
      "source": [
        "#@title Визуализация политики\n",
        "#@markdown Выберите номер эпизода, кратный 100 и меньший или равный 1000, и **запустите эту ячейку**.\n",
        "episode_number = 1000 #@param {type:\"number\"}\n",
        "\n",
        "assert (episode_number % 100) == 0, \"Episode number must be a multiple of 100 since we only record every 100th episode.\"\n",
        "assert episode_number < 1001, \"Episode number must be less than or equal to 1000\"\n",
        "\n",
        "\n",
        "eval_episode_number = int(episode_number / 100 * 8)\n",
        "video_path = f\"./video/q_learning/eval/rl-video-episode-{eval_episode_number}.mp4\"\n",
        "\n",
        "mp4 = open(video_path,'rb').read()\n",
        "data_url = \"data:video/mp4;base64,\" + b64encode(mp4).decode()\n",
        "HTML(\"\"\"\n",
        "<video width=400 controls>\n",
        "      <source src=\"%s\" type=\"video/mp4\">\n",
        "</video>\n",
        "\"\"\" % data_url)"
      ]
    },
    {
      "cell_type": "markdown",
      "metadata": {
        "id": "fV3YG7QOZD-B"
      },
      "source": [
        "Кроме того, существует множество алгоритмов RL, которые вносят существенные улучшения в REINFORCE и Deep Q-Learning. См. эти ресурсы:\n",
        "* [REINFORCE с базовым уровнем](https://spinningup.openai.com/en/latest/spinningup/rl_intro3.html#baselines-in-policy-gradients)\n",
        "* [Double Deep Q-Network](https://arxiv.org/pdf/1509.06461.pdf)\n",
        "* [Proximal Policy Optimisation (PPO)](https://arxiv.org/pdf/1707.06347.pdf)\n",
        "\n",
        "Если вы ищете более углубленный онлайн-курс по RL, вы можете ознакомиться с этими курсами:\n",
        "* [Reinforcement Learning Foundations on LinkedIn Learning](https://www.linkedin.com/learning/reinforcement-learning-foundations) (создано одним из наших собственных преподавателей, Хаулатом Абдулхакимом)\n",
        "* [Введение в Reinforcement Learning on FreeCodeCamp](https://www.freecodecamp.org/news/an-introduction-to-reinforcement-learning-4339519de419/)\n",
        "* [Специализация обучения с подкреплением на Coursera](https://www.coursera.org/specializations/reinforcement-learning)\n",
        "\n",
        "Наконец, самый влиятельный учебник по обучению с подкреплением доступен бесплатно онлайн:\n",
        "* [Обучение с подкреплением: введение](http://incompleteideas.net/book/the-book-2nd.html) Ричарда С. Саттона и Эндрю Г. Барто\n",
        "\n",
        "\n",
        "**Ссылки:**\n",
        "\n",
        "* [OpenAI Spinning Up](https://spinningup.openai.com/en/latest/)\n",
        "* [Deep Q-Network]()"
      ]
    }
  ],
  "metadata": {
    "colab": {
      "provenance": [],
      "gpuType": "T4"
    },
    "kernelspec": {
      "display_name": "Python 3",
      "name": "python3"
    },
    "language_info": {
      "codemirror_mode": {
        "name": "ipython",
        "version": 3
      },
      "file_extension": ".py",
      "mimetype": "text/x-python",
      "name": "python",
      "nbconvert_exporter": "python",
      "pygments_lexer": "ipython3",
      "version": "3.8.13"
    },
    "vscode": {
      "interpreter": {
        "hash": "0f35138c66f99be0fd7a1210bb4aa94a6fbaa5f29d51ad43aec0e0ea0ff050f0"
      }
    }
  },
  "nbformat": 4,
  "nbformat_minor": 0
}